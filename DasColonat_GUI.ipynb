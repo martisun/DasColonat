{
 "cells": [
  {
   "cell_type": "markdown",
   "metadata": {},
   "source": [
    "# DasColonat - GUI"
   ]
  },
  {
   "cell_type": "markdown",
   "metadata": {},
   "source": [
    "## Testers\n",
    "### whenUsingMockFile"
   ]
  },
  {
   "cell_type": "code",
   "execution_count": 1,
   "metadata": {
    "collapsed": false
   },
   "outputs": [
    {
     "name": "stdout",
     "output_type": "stream",
     "text": [
      "test_outputEqualsEmptyInput (source.test_whenUsingMockFile.whenFileOpenedForWriting) ... ok\r\n",
      "test_whenDoneWritingThenCloseFile (source.test_whenUsingMockFile.whenFileOpenedForWriting) ... ok\r\n",
      "test_whenFileNotClosedThenContentNotAvailable (source.test_whenUsingMockFile.whenFileOpenedForWriting) ... ok\r\n",
      "test_whenWriteThenOpenedWithPermission (source.test_whenUsingMockFile.whenFileOpenedForWriting) ... ok\r\n",
      "test_whenReadingWithWith (source.test_whenUsingMockFile.whenFileWasCreated) ... ok\r\n",
      "test_whenWrittenThenNoError (source.test_whenUsingMockFile.whenFileWasCreated) ... ok\r\n",
      "test_whenOpeningWithWithThenProperFile (source.test_whenUsingMockFile.whenOpeningWithWith) ... ok\r\n",
      "test_whenNotWrittenRaisesFileNotFoundError (source.test_whenUsingMockFile.whenReadingFile) ... ok\r\n",
      "test_whenOtherWrittenThenRaisesFileNotFoundError (source.test_whenUsingMockFile.whenReadingFile) ... ok\r\n",
      "\r\n",
      "----------------------------------------------------------------------\r\n",
      "Ran 9 tests in 0.001s\r\n",
      "\r\n",
      "OK\r\n"
     ]
    }
   ],
   "source": [
    "!python -m unittest -v source.test_whenUsingMockFile"
   ]
  },
  {
   "cell_type": "markdown",
   "metadata": {},
   "source": [
    "### whenLoadingInput"
   ]
  },
  {
   "cell_type": "code",
   "execution_count": 2,
   "metadata": {
    "collapsed": false
   },
   "outputs": [
    {
     "name": "stdout",
     "output_type": "stream",
     "text": [
      "test00_whenInputDirectoryEmptyThenRaiseError (source.test_whenLoadingInput.whenFilesToLoadFromSettingIsEmpty) ... ok\r\n",
      "test01_whenInputDirectoryWithOneFileNoCSVFileThenRaiseError (source.test_whenLoadingInput.whenFilesToLoadFromSettingIsEmpty) ... ok\r\n",
      "test02_whenInputDirectoryHasCSVFileThenAskToLoad (source.test_whenLoadingInput.whenFilesToLoadFromSettingIsEmpty) ... ok\r\n",
      "test03_whenAnswerToAskToLoadIsNoWhenOnlyOneFileInDirectory (source.test_whenLoadingInput.whenFilesToLoadFromSettingIsEmpty) ... ok\r\n",
      "test04_whenInputDirectoryWithTwoFilesNoCSVFileThenRaiseError (source.test_whenLoadingInput.whenFilesToLoadFromSettingIsEmpty) ... ok\r\n",
      "test05_whenInputDirectoryWithTwoFilesOneCSVFileThenAskToLoad (source.test_whenLoadingInput.whenFilesToLoadFromSettingIsEmpty) ... ok\r\n",
      "test06_whenInputDirectoryWithTwoCSVFilesThenAskToLoadTwice (source.test_whenLoadingInput.whenFilesToLoadFromSettingIsEmpty) ... ok\r\n",
      "test10_whenFileInSettingOnlyFileNoQuestionsAsked (source.test_whenLoadingInput.whenFilesToLoadFromSettingIsNonEmpty) ... ok\r\n",
      "test11_whenFileInSettingNotPresentAskToLoadOtherFile (source.test_whenLoadingInput.whenFilesToLoadFromSettingIsNonEmpty) ... ok\r\n",
      "test12_whenFileInSettingButNoFileAskToRemoveFromSettings (source.test_whenLoadingInput.whenFilesToLoadFromSettingIsNonEmpty) ... ok\r\n",
      "test13_whenFileInSettingButNoFileThenRemoveFromSettings (source.test_whenLoadingInput.whenFilesToLoadFromSettingIsNonEmpty) ... ok\r\n",
      "test14_whenFileInSettingButNoFileThenDontRemoveFromSettings (source.test_whenLoadingInput.whenFilesToLoadFromSettingIsNonEmpty) ... ok\r\n",
      "test21_whenFilesInSettingOnlyFilesNoQuestionsAsked (source.test_whenLoadingInput.whenSettingHasMultipleEntries) ... ok\r\n",
      "test22_whenFirstFileInSettingAskToRemoveSecond (source.test_whenLoadingInput.whenSettingHasMultipleEntries) ... ok\r\n",
      "test23_whenSecondFileInSettingAskToRemoveFirst (source.test_whenLoadingInput.whenSettingHasMultipleEntries) ... ok\r\n",
      "test24_whenTwoFilesInSettingAskToRemoveBoth (source.test_whenLoadingInput.whenSettingHasMultipleEntries) ... ok\r\n",
      "\r\n",
      "----------------------------------------------------------------------\r\n",
      "Ran 16 tests in 0.002s\r\n",
      "\r\n",
      "OK\r\n"
     ]
    }
   ],
   "source": [
    "!python -m unittest -v source.test_whenLoadingInput"
   ]
  },
  {
   "cell_type": "markdown",
   "metadata": {},
   "source": [
    "### whenUsingEnglishPhraseWriter"
   ]
  },
  {
   "cell_type": "code",
   "execution_count": 3,
   "metadata": {
    "collapsed": false
   },
   "outputs": [
    {
     "name": "stdout",
     "output_type": "stream",
     "text": [
      "test_whenWritingSectionForFather (source.test_whenComparingOutputFromSimpleBaptismEntry.whenUsingEnglishPhraseWriter)\r\n",
      "Tests whether given the input to the minimal input to the summary writer, the ... ok\r\n",
      "test_whenWritingSectionForMother (source.test_whenComparingOutputFromSimpleBaptismEntry.whenUsingEnglishPhraseWriter)\r\n",
      "Tests whether given the input to the minimal input to the summary writer, the ... ok\r\n",
      "test_whenWritingSectionForFatherGivenAll (source.test_whenComparingOutputFromSimpleBaptismEntry.whenUsingFileLoader)\r\n",
      "Tests whether given the minimal input for both father and mother ... ok\r\n",
      "test_whenWritingSectionForMotherGivenAll (source.test_whenComparingOutputFromSimpleBaptismEntry.whenUsingFileLoader)\r\n",
      "Tests whether given the minimal input for both father and mother ... ok\r\n",
      "\r\n",
      "----------------------------------------------------------------------\r\n",
      "Ran 4 tests in 0.002s\r\n",
      "\r\n",
      "OK\r\n"
     ]
    }
   ],
   "source": [
    "!python -m unittest -v source.test_whenComparingOutputFromSimpleBaptismEntry"
   ]
  },
  {
   "cell_type": "markdown",
   "metadata": {},
   "source": [
    "### whenWritingToFile"
   ]
  },
  {
   "cell_type": "code",
   "execution_count": 4,
   "metadata": {
    "collapsed": false
   },
   "outputs": [
    {
     "name": "stdout",
     "output_type": "stream",
     "text": [
      "test_whenSettingEmptyThenAskForInput (source.test_whenWritingToFile.whenWritingToFile) ... ok\r\n",
      "\r\n",
      "----------------------------------------------------------------------\r\n",
      "Ran 1 test in 0.000s\r\n",
      "\r\n",
      "OK\r\n"
     ]
    }
   ],
   "source": [
    "!python -m unittest -v source.test_whenWritingToFile"
   ]
  },
  {
   "cell_type": "markdown",
   "metadata": {},
   "source": [
    "### other"
   ]
  },
  {
   "cell_type": "code",
   "execution_count": 5,
   "metadata": {
    "collapsed": false
   },
   "outputs": [
    {
     "name": "stdout",
     "output_type": "stream",
     "text": [
      "test_summaryWriterUsesProperStructure (source.test_whenWritingSummary.whenWritingSummary)\n",
      "Tests whether the text written by the summary writer ... ok\n",
      "\n",
      "----------------------------------------------------------------------\n",
      "Ran 1 test in 0.000s\n",
      "\n",
      "OK\n",
      "test_whenAfterGUIProcessingThenOutputIsGold (source.test_acceptance.whenCheckingAgainstGoldStandard) ... ok\n",
      "test_whenGoldInputIsSet (source.test_acceptance.whenCheckingAgainstGoldStandard) ... ok\n",
      "test_templateRelativeToFatherInBaptismRecord (source.test_acceptance.whenReadingAndWritingWithTaskManager)\n",
      "Tests whether the output adheres to a predefined ... ERROR\n",
      "test_templateRelativeToMotherInBaptismRecord (source.test_acceptance.whenReadingAndWritingWithTaskManager)\n",
      "Tests whether the output adheres to a predefined ... ERROR\n",
      "test_useLanguageSettings (source.test_acceptance.whenReadingAndWritingWithTaskManager)\n",
      "Tests whether it is possible to specify the name ... test_useTaskManagerForProcessingDifferentInputFiles (source.test_acceptance.whenReadingAndWritingWithTaskManager)\n",
      "Tests whether it is possible to use an input file with ... test_useTaskManagerForProcessingDifferentOutputFiles (source.test_acceptance.whenReadingAndWritingWithTaskManager)\n",
      "Tests whether it is possible to specify the name ... \n",
      "======================================================================\n",
      "ERROR: test_templateRelativeToFatherInBaptismRecord (source.test_acceptance.whenReadingAndWritingWithTaskManager)\n",
      "Tests whether the output adheres to a predefined\n",
      "----------------------------------------------------------------------\n",
      "Traceback (most recent call last):\n",
      "  File \"/Users/mpasunder/Documents/Private/Genealogy/DasColonat/source/test_acceptance.py\", line 72, in test_templateRelativeToFatherInBaptismRecord\n",
      "    self.__useTaskManagerToFillTemplateWithIOFileNames('baptism.csv','summary.tex')\n",
      "  File \"/Users/mpasunder/Documents/Private/Genealogy/DasColonat/source/test_acceptance.py\", line 90, in __useTaskManagerToFillTemplateWithIOFileNames\n",
      "    self.__assertTaskManagerOutputEqualsContentOfFileWithName(outputFileName)\n",
      "  File \"/Users/mpasunder/Documents/Private/Genealogy/DasColonat/source/test_acceptance.py\", line 93, in __assertTaskManagerOutputEqualsContentOfFileWithName\n",
      "    self.taskManager.run()\n",
      "  File \"/Users/mpasunder/Documents/Private/Genealogy/DasColonat/source/task_manager.py\", line 10, in run\n",
      "    self.__go()\n",
      "  File \"/Users/mpasunder/Documents/Private/Genealogy/DasColonat/source/task_manager.py\", line 19, in __go\n",
      "    dictContent = self.__parseFileIntoDict(filesToLoad[0])\n",
      "  File \"/Users/mpasunder/Documents/Private/Genealogy/DasColonat/source/task_manager.py\", line 43, in __parseFileIntoDict\n",
      "    parsedDict = fileParser.parse()\n",
      "  File \"/Users/mpasunder/Documents/Private/Genealogy/DasColonat/source/file_parser.py\", line 13, in parse\n",
      "    self.__splitContentIntoCells()\n",
      "  File \"/Users/mpasunder/Documents/Private/Genealogy/DasColonat/source/file_parser.py\", line 36, in __splitContentIntoCells\n",
      "    rowsOfContent =   self.__stringContent.split(FileParser.__lineSeperator)\n",
      "AttributeError: 'tuple' object has no attribute 'split'\n",
      "\n",
      "======================================================================\n",
      "ERROR: test_templateRelativeToMotherInBaptismRecord (source.test_acceptance.whenReadingAndWritingWithTaskManager)\n",
      "Tests whether the output adheres to a predefined\n",
      "----------------------------------------------------------------------\n",
      "Traceback (most recent call last):\n",
      "  File \"/Users/mpasunder/Documents/Private/Genealogy/DasColonat/source/test_acceptance.py\", line 79, in test_templateRelativeToMotherInBaptismRecord\n",
      "    self.__useTaskManagerToFillTemplateWithIOFileNames('baptism.csv','summary.tex')\n",
      "  File \"/Users/mpasunder/Documents/Private/Genealogy/DasColonat/source/test_acceptance.py\", line 90, in __useTaskManagerToFillTemplateWithIOFileNames\n",
      "    self.__assertTaskManagerOutputEqualsContentOfFileWithName(outputFileName)\n",
      "  File \"/Users/mpasunder/Documents/Private/Genealogy/DasColonat/source/test_acceptance.py\", line 93, in __assertTaskManagerOutputEqualsContentOfFileWithName\n",
      "    self.taskManager.run()\n",
      "  File \"/Users/mpasunder/Documents/Private/Genealogy/DasColonat/source/task_manager.py\", line 10, in run\n",
      "    self.__go()\n",
      "  File \"/Users/mpasunder/Documents/Private/Genealogy/DasColonat/source/task_manager.py\", line 19, in __go\n",
      "    dictContent = self.__parseFileIntoDict(filesToLoad[0])\n",
      "  File \"/Users/mpasunder/Documents/Private/Genealogy/DasColonat/source/task_manager.py\", line 43, in __parseFileIntoDict\n",
      "    parsedDict = fileParser.parse()\n",
      "  File \"/Users/mpasunder/Documents/Private/Genealogy/DasColonat/source/file_parser.py\", line 13, in parse\n",
      "    self.__splitContentIntoCells()\n",
      "  File \"/Users/mpasunder/Documents/Private/Genealogy/DasColonat/source/file_parser.py\", line 36, in __splitContentIntoCells\n",
      "    rowsOfContent =   self.__stringContent.split(FileParser.__lineSeperator)\n",
      "AttributeError: 'tuple' object has no attribute 'split'\n",
      "\n",
      "======================================================================\n",
      "ERROR: test_useLanguageSettings (source.test_acceptance.whenReadingAndWritingWithTaskManager) (language='en')\n",
      "Tests whether it is possible to specify the name\n",
      "----------------------------------------------------------------------\n",
      "Traceback (most recent call last):\n",
      "  File \"/Users/mpasunder/Documents/Private/Genealogy/DasColonat/source/test_acceptance.py\", line 66, in test_useLanguageSettings\n",
      "    self.__useLanguageInSettings(language)\n",
      "  File \"/Users/mpasunder/Documents/Private/Genealogy/DasColonat/source/test_acceptance.py\", line 84, in __useLanguageInSettings\n",
      "    self.__assertTaskManagerOutputEqualsContentOfFileWithName('summary.tex')\n",
      "  File \"/Users/mpasunder/Documents/Private/Genealogy/DasColonat/source/test_acceptance.py\", line 93, in __assertTaskManagerOutputEqualsContentOfFileWithName\n",
      "    self.taskManager.run()\n",
      "  File \"/Users/mpasunder/Documents/Private/Genealogy/DasColonat/source/task_manager.py\", line 10, in run\n",
      "    self.__go()\n",
      "  File \"/Users/mpasunder/Documents/Private/Genealogy/DasColonat/source/task_manager.py\", line 19, in __go\n",
      "    dictContent = self.__parseFileIntoDict(filesToLoad[0])\n",
      "  File \"/Users/mpasunder/Documents/Private/Genealogy/DasColonat/source/task_manager.py\", line 43, in __parseFileIntoDict\n",
      "    parsedDict = fileParser.parse()\n",
      "  File \"/Users/mpasunder/Documents/Private/Genealogy/DasColonat/source/file_parser.py\", line 13, in parse\n",
      "    self.__splitContentIntoCells()\n",
      "  File \"/Users/mpasunder/Documents/Private/Genealogy/DasColonat/source/file_parser.py\", line 36, in __splitContentIntoCells\n",
      "    rowsOfContent =   self.__stringContent.split(FileParser.__lineSeperator)\n",
      "AttributeError: 'tuple' object has no attribute 'split'\n",
      "\n",
      "======================================================================\n",
      "ERROR: test_useLanguageSettings (source.test_acceptance.whenReadingAndWritingWithTaskManager) (language='nl')\n",
      "Tests whether it is possible to specify the name\n",
      "----------------------------------------------------------------------\n",
      "Traceback (most recent call last):\n",
      "  File \"/Users/mpasunder/Documents/Private/Genealogy/DasColonat/source/test_acceptance.py\", line 66, in test_useLanguageSettings\n",
      "    self.__useLanguageInSettings(language)\n",
      "  File \"/Users/mpasunder/Documents/Private/Genealogy/DasColonat/source/test_acceptance.py\", line 84, in __useLanguageInSettings\n",
      "    self.__assertTaskManagerOutputEqualsContentOfFileWithName('summary.tex')\n",
      "  File \"/Users/mpasunder/Documents/Private/Genealogy/DasColonat/source/test_acceptance.py\", line 93, in __assertTaskManagerOutputEqualsContentOfFileWithName\n",
      "    self.taskManager.run()\n",
      "  File \"/Users/mpasunder/Documents/Private/Genealogy/DasColonat/source/task_manager.py\", line 10, in run\n",
      "    self.__go()\n",
      "  File \"/Users/mpasunder/Documents/Private/Genealogy/DasColonat/source/task_manager.py\", line 19, in __go\n",
      "    dictContent = self.__parseFileIntoDict(filesToLoad[0])\n",
      "  File \"/Users/mpasunder/Documents/Private/Genealogy/DasColonat/source/task_manager.py\", line 43, in __parseFileIntoDict\n",
      "    parsedDict = fileParser.parse()\n",
      "  File \"/Users/mpasunder/Documents/Private/Genealogy/DasColonat/source/file_parser.py\", line 13, in parse\n",
      "    self.__splitContentIntoCells()\n",
      "  File \"/Users/mpasunder/Documents/Private/Genealogy/DasColonat/source/file_parser.py\", line 36, in __splitContentIntoCells\n",
      "    rowsOfContent =   self.__stringContent.split(FileParser.__lineSeperator)\n",
      "AttributeError: 'tuple' object has no attribute 'split'\n",
      "\n",
      "======================================================================\n",
      "ERROR: test_useLanguageSettings (source.test_acceptance.whenReadingAndWritingWithTaskManager) (language='de')\n",
      "Tests whether it is possible to specify the name\n",
      "----------------------------------------------------------------------\n",
      "Traceback (most recent call last):\n",
      "  File \"/Users/mpasunder/Documents/Private/Genealogy/DasColonat/source/test_acceptance.py\", line 66, in test_useLanguageSettings\n",
      "    self.__useLanguageInSettings(language)\n",
      "  File \"/Users/mpasunder/Documents/Private/Genealogy/DasColonat/source/test_acceptance.py\", line 84, in __useLanguageInSettings\n",
      "    self.__assertTaskManagerOutputEqualsContentOfFileWithName('summary.tex')\n",
      "  File \"/Users/mpasunder/Documents/Private/Genealogy/DasColonat/source/test_acceptance.py\", line 93, in __assertTaskManagerOutputEqualsContentOfFileWithName\n",
      "    self.taskManager.run()\n",
      "  File \"/Users/mpasunder/Documents/Private/Genealogy/DasColonat/source/task_manager.py\", line 10, in run\n",
      "    self.__go()\n",
      "  File \"/Users/mpasunder/Documents/Private/Genealogy/DasColonat/source/task_manager.py\", line 19, in __go\n",
      "    dictContent = self.__parseFileIntoDict(filesToLoad[0])\n",
      "  File \"/Users/mpasunder/Documents/Private/Genealogy/DasColonat/source/task_manager.py\", line 43, in __parseFileIntoDict\n",
      "    parsedDict = fileParser.parse()\n",
      "  File \"/Users/mpasunder/Documents/Private/Genealogy/DasColonat/source/file_parser.py\", line 13, in parse\n",
      "    self.__splitContentIntoCells()\n",
      "  File \"/Users/mpasunder/Documents/Private/Genealogy/DasColonat/source/file_parser.py\", line 36, in __splitContentIntoCells\n",
      "    rowsOfContent =   self.__stringContent.split(FileParser.__lineSeperator)\n",
      "AttributeError: 'tuple' object has no attribute 'split'\n",
      "\n",
      "======================================================================\n",
      "ERROR: test_useTaskManagerForProcessingDifferentInputFiles (source.test_acceptance.whenReadingAndWritingWithTaskManager) (inputFileName='a.csv')\n",
      "Tests whether it is possible to use an input file with\n",
      "----------------------------------------------------------------------\n",
      "Traceback (most recent call last):\n",
      "  File \"/Users/mpasunder/Documents/Private/Genealogy/DasColonat/source/test_acceptance.py\", line 50, in test_useTaskManagerForProcessingDifferentInputFiles\n",
      "    self.__useTaskManagerToFillTemplateWithIOFileNames(inputFileName,'summary.tex')\n",
      "  File \"/Users/mpasunder/Documents/Private/Genealogy/DasColonat/source/test_acceptance.py\", line 90, in __useTaskManagerToFillTemplateWithIOFileNames\n",
      "    self.__assertTaskManagerOutputEqualsContentOfFileWithName(outputFileName)\n",
      "  File \"/Users/mpasunder/Documents/Private/Genealogy/DasColonat/source/test_acceptance.py\", line 93, in __assertTaskManagerOutputEqualsContentOfFileWithName\n",
      "    self.taskManager.run()\n",
      "  File \"/Users/mpasunder/Documents/Private/Genealogy/DasColonat/source/task_manager.py\", line 10, in run\n",
      "    self.__go()\n",
      "  File \"/Users/mpasunder/Documents/Private/Genealogy/DasColonat/source/task_manager.py\", line 19, in __go\n",
      "    dictContent = self.__parseFileIntoDict(filesToLoad[0])\n",
      "  File \"/Users/mpasunder/Documents/Private/Genealogy/DasColonat/source/task_manager.py\", line 43, in __parseFileIntoDict\n",
      "    parsedDict = fileParser.parse()\n",
      "  File \"/Users/mpasunder/Documents/Private/Genealogy/DasColonat/source/file_parser.py\", line 13, in parse\n",
      "    self.__splitContentIntoCells()\n",
      "  File \"/Users/mpasunder/Documents/Private/Genealogy/DasColonat/source/file_parser.py\", line 36, in __splitContentIntoCells\n",
      "    rowsOfContent =   self.__stringContent.split(FileParser.__lineSeperator)\n",
      "AttributeError: 'tuple' object has no attribute 'split'\n",
      "\n",
      "======================================================================\n",
      "ERROR: test_useTaskManagerForProcessingDifferentInputFiles (source.test_acceptance.whenReadingAndWritingWithTaskManager) (inputFileName='b.csv')\n",
      "Tests whether it is possible to use an input file with\n",
      "----------------------------------------------------------------------\n",
      "Traceback (most recent call last):\n",
      "  File \"/Users/mpasunder/Documents/Private/Genealogy/DasColonat/source/test_acceptance.py\", line 50, in test_useTaskManagerForProcessingDifferentInputFiles\n",
      "    self.__useTaskManagerToFillTemplateWithIOFileNames(inputFileName,'summary.tex')\n",
      "  File \"/Users/mpasunder/Documents/Private/Genealogy/DasColonat/source/test_acceptance.py\", line 90, in __useTaskManagerToFillTemplateWithIOFileNames\n",
      "    self.__assertTaskManagerOutputEqualsContentOfFileWithName(outputFileName)\n",
      "  File \"/Users/mpasunder/Documents/Private/Genealogy/DasColonat/source/test_acceptance.py\", line 93, in __assertTaskManagerOutputEqualsContentOfFileWithName\n",
      "    self.taskManager.run()\n",
      "  File \"/Users/mpasunder/Documents/Private/Genealogy/DasColonat/source/task_manager.py\", line 10, in run\n",
      "    self.__go()\n",
      "  File \"/Users/mpasunder/Documents/Private/Genealogy/DasColonat/source/task_manager.py\", line 19, in __go\n",
      "    dictContent = self.__parseFileIntoDict(filesToLoad[0])\n",
      "  File \"/Users/mpasunder/Documents/Private/Genealogy/DasColonat/source/task_manager.py\", line 43, in __parseFileIntoDict\n",
      "    parsedDict = fileParser.parse()\n",
      "  File \"/Users/mpasunder/Documents/Private/Genealogy/DasColonat/source/file_parser.py\", line 13, in parse\n",
      "    self.__splitContentIntoCells()\n",
      "  File \"/Users/mpasunder/Documents/Private/Genealogy/DasColonat/source/file_parser.py\", line 36, in __splitContentIntoCells\n",
      "    rowsOfContent =   self.__stringContent.split(FileParser.__lineSeperator)\n",
      "AttributeError: 'tuple' object has no attribute 'split'\n",
      "\n",
      "======================================================================\n",
      "ERROR: test_useTaskManagerForProcessingDifferentInputFiles (source.test_acceptance.whenReadingAndWritingWithTaskManager) (inputFileName='c.csv')\n",
      "Tests whether it is possible to use an input file with\n",
      "----------------------------------------------------------------------\n",
      "Traceback (most recent call last):\n",
      "  File \"/Users/mpasunder/Documents/Private/Genealogy/DasColonat/source/test_acceptance.py\", line 50, in test_useTaskManagerForProcessingDifferentInputFiles\n",
      "    self.__useTaskManagerToFillTemplateWithIOFileNames(inputFileName,'summary.tex')\n",
      "  File \"/Users/mpasunder/Documents/Private/Genealogy/DasColonat/source/test_acceptance.py\", line 90, in __useTaskManagerToFillTemplateWithIOFileNames\n",
      "    self.__assertTaskManagerOutputEqualsContentOfFileWithName(outputFileName)\n",
      "  File \"/Users/mpasunder/Documents/Private/Genealogy/DasColonat/source/test_acceptance.py\", line 93, in __assertTaskManagerOutputEqualsContentOfFileWithName\n",
      "    self.taskManager.run()\n",
      "  File \"/Users/mpasunder/Documents/Private/Genealogy/DasColonat/source/task_manager.py\", line 10, in run\n",
      "    self.__go()\n",
      "  File \"/Users/mpasunder/Documents/Private/Genealogy/DasColonat/source/task_manager.py\", line 19, in __go\n",
      "    dictContent = self.__parseFileIntoDict(filesToLoad[0])\n",
      "  File \"/Users/mpasunder/Documents/Private/Genealogy/DasColonat/source/task_manager.py\", line 43, in __parseFileIntoDict\n",
      "    parsedDict = fileParser.parse()\n",
      "  File \"/Users/mpasunder/Documents/Private/Genealogy/DasColonat/source/file_parser.py\", line 13, in parse\n",
      "    self.__splitContentIntoCells()\n",
      "  File \"/Users/mpasunder/Documents/Private/Genealogy/DasColonat/source/file_parser.py\", line 36, in __splitContentIntoCells\n",
      "    rowsOfContent =   self.__stringContent.split(FileParser.__lineSeperator)\n",
      "AttributeError: 'tuple' object has no attribute 'split'\n",
      "\n",
      "======================================================================\n",
      "ERROR: test_useTaskManagerForProcessingDifferentOutputFiles (source.test_acceptance.whenReadingAndWritingWithTaskManager) (outputFileName='a.tex')\n",
      "Tests whether it is possible to specify the name\n",
      "----------------------------------------------------------------------\n",
      "Traceback (most recent call last):\n",
      "  File \"/Users/mpasunder/Documents/Private/Genealogy/DasColonat/source/test_acceptance.py\", line 58, in test_useTaskManagerForProcessingDifferentOutputFiles\n",
      "    self.__useTaskManagerToFillTemplateWithIOFileNames('baptism.csv',outputFileName)\n",
      "  File \"/Users/mpasunder/Documents/Private/Genealogy/DasColonat/source/test_acceptance.py\", line 90, in __useTaskManagerToFillTemplateWithIOFileNames\n",
      "    self.__assertTaskManagerOutputEqualsContentOfFileWithName(outputFileName)\n",
      "  File \"/Users/mpasunder/Documents/Private/Genealogy/DasColonat/source/test_acceptance.py\", line 93, in __assertTaskManagerOutputEqualsContentOfFileWithName\n",
      "    self.taskManager.run()\n",
      "  File \"/Users/mpasunder/Documents/Private/Genealogy/DasColonat/source/task_manager.py\", line 10, in run\n",
      "    self.__go()\n",
      "  File \"/Users/mpasunder/Documents/Private/Genealogy/DasColonat/source/task_manager.py\", line 19, in __go\n",
      "    dictContent = self.__parseFileIntoDict(filesToLoad[0])\n",
      "  File \"/Users/mpasunder/Documents/Private/Genealogy/DasColonat/source/task_manager.py\", line 43, in __parseFileIntoDict\n",
      "    parsedDict = fileParser.parse()\n",
      "  File \"/Users/mpasunder/Documents/Private/Genealogy/DasColonat/source/file_parser.py\", line 13, in parse\n",
      "    self.__splitContentIntoCells()\n",
      "  File \"/Users/mpasunder/Documents/Private/Genealogy/DasColonat/source/file_parser.py\", line 36, in __splitContentIntoCells\n",
      "    rowsOfContent =   self.__stringContent.split(FileParser.__lineSeperator)\n",
      "AttributeError: 'tuple' object has no attribute 'split'\n",
      "\n",
      "======================================================================\n",
      "ERROR: test_useTaskManagerForProcessingDifferentOutputFiles (source.test_acceptance.whenReadingAndWritingWithTaskManager) (outputFileName='b.tex')\n",
      "Tests whether it is possible to specify the name\n",
      "----------------------------------------------------------------------\n",
      "Traceback (most recent call last):\n",
      "  File \"/Users/mpasunder/Documents/Private/Genealogy/DasColonat/source/test_acceptance.py\", line 58, in test_useTaskManagerForProcessingDifferentOutputFiles\n",
      "    self.__useTaskManagerToFillTemplateWithIOFileNames('baptism.csv',outputFileName)\n",
      "  File \"/Users/mpasunder/Documents/Private/Genealogy/DasColonat/source/test_acceptance.py\", line 90, in __useTaskManagerToFillTemplateWithIOFileNames\n",
      "    self.__assertTaskManagerOutputEqualsContentOfFileWithName(outputFileName)\n",
      "  File \"/Users/mpasunder/Documents/Private/Genealogy/DasColonat/source/test_acceptance.py\", line 93, in __assertTaskManagerOutputEqualsContentOfFileWithName\n",
      "    self.taskManager.run()\n",
      "  File \"/Users/mpasunder/Documents/Private/Genealogy/DasColonat/source/task_manager.py\", line 10, in run\n",
      "    self.__go()\n",
      "  File \"/Users/mpasunder/Documents/Private/Genealogy/DasColonat/source/task_manager.py\", line 19, in __go\n",
      "    dictContent = self.__parseFileIntoDict(filesToLoad[0])\n",
      "  File \"/Users/mpasunder/Documents/Private/Genealogy/DasColonat/source/task_manager.py\", line 43, in __parseFileIntoDict\n",
      "    parsedDict = fileParser.parse()\n",
      "  File \"/Users/mpasunder/Documents/Private/Genealogy/DasColonat/source/file_parser.py\", line 13, in parse\n",
      "    self.__splitContentIntoCells()\n",
      "  File \"/Users/mpasunder/Documents/Private/Genealogy/DasColonat/source/file_parser.py\", line 36, in __splitContentIntoCells\n",
      "    rowsOfContent =   self.__stringContent.split(FileParser.__lineSeperator)\n",
      "AttributeError: 'tuple' object has no attribute 'split'\n",
      "\n",
      "======================================================================\n",
      "ERROR: test_useTaskManagerForProcessingDifferentOutputFiles (source.test_acceptance.whenReadingAndWritingWithTaskManager) (outputFileName='c.tex')\n",
      "Tests whether it is possible to specify the name\n",
      "----------------------------------------------------------------------\n",
      "Traceback (most recent call last):\n",
      "  File \"/Users/mpasunder/Documents/Private/Genealogy/DasColonat/source/test_acceptance.py\", line 58, in test_useTaskManagerForProcessingDifferentOutputFiles\n",
      "    self.__useTaskManagerToFillTemplateWithIOFileNames('baptism.csv',outputFileName)\n",
      "  File \"/Users/mpasunder/Documents/Private/Genealogy/DasColonat/source/test_acceptance.py\", line 90, in __useTaskManagerToFillTemplateWithIOFileNames\n",
      "    self.__assertTaskManagerOutputEqualsContentOfFileWithName(outputFileName)\n",
      "  File \"/Users/mpasunder/Documents/Private/Genealogy/DasColonat/source/test_acceptance.py\", line 93, in __assertTaskManagerOutputEqualsContentOfFileWithName\n",
      "    self.taskManager.run()\n",
      "  File \"/Users/mpasunder/Documents/Private/Genealogy/DasColonat/source/task_manager.py\", line 10, in run\n",
      "    self.__go()\n",
      "  File \"/Users/mpasunder/Documents/Private/Genealogy/DasColonat/source/task_manager.py\", line 19, in __go\n",
      "    dictContent = self.__parseFileIntoDict(filesToLoad[0])\n",
      "  File \"/Users/mpasunder/Documents/Private/Genealogy/DasColonat/source/task_manager.py\", line 43, in __parseFileIntoDict\n",
      "    parsedDict = fileParser.parse()\n",
      "  File \"/Users/mpasunder/Documents/Private/Genealogy/DasColonat/source/file_parser.py\", line 13, in parse\n",
      "    self.__splitContentIntoCells()\n",
      "  File \"/Users/mpasunder/Documents/Private/Genealogy/DasColonat/source/file_parser.py\", line 36, in __splitContentIntoCells\n",
      "    rowsOfContent =   self.__stringContent.split(FileParser.__lineSeperator)\n",
      "AttributeError: 'tuple' object has no attribute 'split'\n",
      "\n",
      "----------------------------------------------------------------------\n",
      "Ran 7 tests in 0.004s\n",
      "\n",
      "FAILED (errors=11)\n"
     ]
    }
   ],
   "source": [
    "!python -m unittest -v source.test_whenWritingSummary\n",
    "!python -m unittest -v source.test_acceptance"
   ]
  },
  {
   "cell_type": "markdown",
   "metadata": {},
   "source": [
    "## Current status"
   ]
  },
  {
   "cell_type": "markdown",
   "metadata": {},
   "source": [
    "### load library"
   ]
  },
  {
   "cell_type": "code",
   "execution_count": 6,
   "metadata": {
    "collapsed": false
   },
   "outputs": [],
   "source": [
    "from source.settings import Settings\n",
    "from source.task_manager import TaskManager\n",
    "from source.mock_gui import MockGUI\n",
    "from source.mock_file import MockFolderAdapter"
   ]
  },
  {
   "cell_type": "code",
   "execution_count": 9,
   "metadata": {
    "collapsed": false
   },
   "outputs": [
    {
     "name": "stdout",
     "output_type": "stream",
     "text": [
      "\n",
      "\\section{\\pidt{(Fr0)}-- Sunder, Jois --~\\Mars}\\label{sec:(Fr0)}\n",
      "\n",
      "From a relationship between Jois \\textbf{S}under\\pids{(Fr0)} and Alheid\\pids{x1(Fr0)} was brought forth:\n",
      "\\begin{itemize}\n",
      "\\item[\\emph{\\rom{1}.}] Wolterus~(\\textbf{?})~\\pids{(Fr0.1)} was baptised on the 18\\supscr{th} of December 1661 before the catholic church of the {\\it St. Vitus} parish at Freren.\n",
      "\\end{itemize}\n",
      "\n"
     ]
    }
   ],
   "source": [
    "# define mock input\n",
    "STR_INPUT = 'father;;;mother;\\n'+\\\n",
    "            'PID;firstName;lastName;PID;firstName\\n'+\\\n",
    "            '(Fr0);Jois;Sunder;x1(Fr0);Alheid'\n",
    "GOLD_SETTINGS = {'filesToLoadFrom':['baptism.csv'],\\\n",
    "                 'filesToSaveTo':'summary.tex',\n",
    "                 'roleOfMain':'father'}\n",
    "# write a mock file with input\n",
    "folderAdapter = MockFolderAdapter()\n",
    "with folderAdapter.open('baptism.csv','w') as fileObject:\n",
    "            fileObject.write(STR_INPUT)\n",
    "# setup settings\n",
    "settings = Settings.setTo(GOLD_SETTINGS)\n",
    "theGUI   = MockGUI()\n",
    "taskManager = TaskManager()\n",
    "taskManager.setGUITo(theGUI)\n",
    "taskManager.setFolderAdapterTo(folderAdapter)\n",
    "taskManager.setSettingsTo(settings)\n",
    "taskManager.run()\n",
    "# read output\n",
    "with folderAdapter.open('summary.tex','r') as fileObject:\n",
    "            content = fileObject.read()\n",
    "content = content.replace('\\t','\\\\t')\n",
    "content = content.replace('\\r','\\\\r')\n",
    "print(content.replace('\\b','\\\\b'))"
   ]
  },
  {
   "cell_type": "markdown",
   "metadata": {},
   "source": [
    "### Use Case: createSummary"
   ]
  },
  {
   "cell_type": "markdown",
   "metadata": {},
   "source": [
    "**Use Case**: create a summary <br>\n",
    "**Actor**:    user <br>\n",
    "**Brief:** <br>\n",
    "create a summary of a selection of data and put the output in a suitable LaTeX-format that allows a PDF to be put out by running 'overview.tex'. <br>\n",
    "<br>\n",
    "**Basic Flow:**<br>\n",
    "\n",
    "1) Select a person/people from a selection of available people. <br>\n",
    "\n",
    "2) Compose a summary for that person. <br>\n",
    "\n",
    "3) Run the pdf. <br>\n",
    "\n",
    "**Input:**<br>\n",
    "\n",
    "The programm shall be runnable through default settings that are specified in the settings.\n",
    "\n",
    "<table>\n",
    "    <tr>\n",
    "        <td width=\"100\"> **name** </td>\n",
    "        <td width=\"200\"> **type/options** </td>\n",
    "        <td> ** description ** </td>\n",
    "    </tr>\n",
    "    <tr>\n",
    "        <td width=\"100\"> *filesToLoadFrom* </td>\n",
    "        <td width=\"200\"> str </td>\n",
    "        <td>: The name of the file with the input data. </td>\n",
    "    </tr>\n",
    "    <tr>\n",
    "        <td> *filesToSaveTo*</td>\n",
    "        <td> str </td>\n",
    "        <td>: The name of the file to which the output is written.</td>\n",
    "    </tr>\n",
    "        <tr>\n",
    "        <td> *language*</td>\n",
    "        <td> $\\text{str} \\in \\{$'en','nl','de'$\\}$ where by default: language='en' </td>\n",
    "        <td>: The language of the output summary, implemented options are: english, dutch and german.</td>\n",
    "    </tr>\n",
    "</table>"
   ]
  },
  {
   "cell_type": "code",
   "execution_count": null,
   "metadata": {
    "collapsed": false
   },
   "outputs": [],
   "source": []
  },
  {
   "cell_type": "code",
   "execution_count": null,
   "metadata": {
    "collapsed": true
   },
   "outputs": [],
   "source": []
  }
 ],
 "metadata": {
  "anaconda-cloud": {},
  "kernelspec": {
   "display_name": "Python [anaconda3]",
   "language": "python",
   "name": "Python [anaconda3]"
  },
  "language_info": {
   "codemirror_mode": {
    "name": "ipython",
    "version": 3
   },
   "file_extension": ".py",
   "mimetype": "text/x-python",
   "name": "python",
   "nbconvert_exporter": "python",
   "pygments_lexer": "ipython3",
   "version": "3.5.2"
  }
 },
 "nbformat": 4,
 "nbformat_minor": 0
}
