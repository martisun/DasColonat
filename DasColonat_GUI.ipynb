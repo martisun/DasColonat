{
 "cells": [
  {
   "cell_type": "markdown",
   "metadata": {},
   "source": [
    "# DasColonat - GUI"
   ]
  },
  {
   "cell_type": "markdown",
   "metadata": {},
   "source": [
    "## Testers\n",
    "### whenUsingMockFile"
   ]
  },
  {
   "cell_type": "code",
   "execution_count": 1,
   "metadata": {
    "collapsed": false
   },
   "outputs": [
    {
     "name": "stdout",
     "output_type": "stream",
     "text": [
      "test_outputEqualsEmptyInput (source.test_whenUsingMockFile.whenFileOpenedForWriting) ... ok\r\n",
      "test_whenDoneWritingThenCloseFile (source.test_whenUsingMockFile.whenFileOpenedForWriting) ... ok\r\n",
      "test_whenFileNotClosedThenContentNotAvailable (source.test_whenUsingMockFile.whenFileOpenedForWriting) ... ok\r\n",
      "test_whenWriteThenOpenedWithPermission (source.test_whenUsingMockFile.whenFileOpenedForWriting) ... ok\r\n",
      "test_whenReadingWithWith (source.test_whenUsingMockFile.whenFileWasCreated) ... ok\r\n",
      "test_whenWrittenThenNoError (source.test_whenUsingMockFile.whenFileWasCreated) ... ok\r\n",
      "test_whenOpeningWithWithThenProperFile (source.test_whenUsingMockFile.whenOpeningWithWith) ... ok\r\n",
      "test_whenNotWrittenRaisesFileNotFoundError (source.test_whenUsingMockFile.whenReadingFile) ... ok\r\n",
      "test_whenOtherWrittenThenRaisesFileNotFoundError (source.test_whenUsingMockFile.whenReadingFile) ... ok\r\n",
      "\r\n",
      "----------------------------------------------------------------------\r\n",
      "Ran 9 tests in 0.001s\r\n",
      "\r\n",
      "OK\r\n"
     ]
    }
   ],
   "source": [
    "!python -m unittest -v source.test_whenUsingMockFile"
   ]
  },
  {
   "cell_type": "markdown",
   "metadata": {},
   "source": [
    "### whenLoadingInput"
   ]
  },
  {
   "cell_type": "code",
   "execution_count": 2,
   "metadata": {
    "collapsed": false
   },
   "outputs": [
    {
     "name": "stdout",
     "output_type": "stream",
     "text": [
      "test00_whenInputDirectoryEmptyThenRaiseError (source.test_whenLoadingInput.whenFilesToLoadFromSettingIsEmpty) ... ok\r\n",
      "test01_whenInputDirectoryWithOneFileNoCSVFileThenRaiseError (source.test_whenLoadingInput.whenFilesToLoadFromSettingIsEmpty) ... ok\r\n",
      "test02_whenInputDirectoryHasCSVFileThenAskToLoad (source.test_whenLoadingInput.whenFilesToLoadFromSettingIsEmpty) ... ok\r\n",
      "test03_whenAnswerToAskToLoadIsNoWhenOnlyOneFileInDirectory (source.test_whenLoadingInput.whenFilesToLoadFromSettingIsEmpty) ... ok\r\n",
      "test04_whenInputDirectoryWithTwoFilesNoCSVFileThenRaiseError (source.test_whenLoadingInput.whenFilesToLoadFromSettingIsEmpty) ... ok\r\n",
      "test05_whenInputDirectoryWithTwoFilesOneCSVFileThenAskToLoad (source.test_whenLoadingInput.whenFilesToLoadFromSettingIsEmpty) ... ok\r\n",
      "test06_whenInputDirectoryWithTwoCSVFilesThenAskToLoadTwice (source.test_whenLoadingInput.whenFilesToLoadFromSettingIsEmpty) ... ok\r\n",
      "test10_whenFileInSettingOnlyFileNoQuestionsAsked (source.test_whenLoadingInput.whenFilesToLoadFromSettingIsNonEmpty) ... ok\r\n",
      "test11_whenFileInSettingNotPresentAskToLoadOtherFile (source.test_whenLoadingInput.whenFilesToLoadFromSettingIsNonEmpty) ... ok\r\n",
      "test12_whenFileInSettingButNoFileAskToRemoveFromSettings (source.test_whenLoadingInput.whenFilesToLoadFromSettingIsNonEmpty) ... ok\r\n",
      "test13_whenFileInSettingButNoFileThenRemoveFromSettings (source.test_whenLoadingInput.whenFilesToLoadFromSettingIsNonEmpty) ... ok\r\n",
      "test14_whenFileInSettingButNoFileThenDontRemoveFromSettings (source.test_whenLoadingInput.whenFilesToLoadFromSettingIsNonEmpty) ... ok\r\n",
      "test21_whenFilesInSettingOnlyFilesNoQuestionsAsked (source.test_whenLoadingInput.whenSettingHasMultipleEntries) ... ok\r\n",
      "test22_whenFirstFileInSettingAskToRemoveSecond (source.test_whenLoadingInput.whenSettingHasMultipleEntries) ... ok\r\n",
      "test23_whenSecondFileInSettingAskToRemoveFirst (source.test_whenLoadingInput.whenSettingHasMultipleEntries) ... ok\r\n",
      "test24_whenTwoFilesInSettingAskToRemoveBoth (source.test_whenLoadingInput.whenSettingHasMultipleEntries) ... ok\r\n",
      "\r\n",
      "----------------------------------------------------------------------\r\n",
      "Ran 16 tests in 0.003s\r\n",
      "\r\n",
      "OK\r\n"
     ]
    }
   ],
   "source": [
    "!python -m unittest -v source.test_whenLoadingInput"
   ]
  },
  {
   "cell_type": "markdown",
   "metadata": {},
   "source": [
    "### whenUsingEnglishPhraseWriter"
   ]
  },
  {
   "cell_type": "code",
   "execution_count": 3,
   "metadata": {
    "collapsed": false,
    "scrolled": true
   },
   "outputs": [
    {
     "name": "stdout",
     "output_type": "stream",
     "text": [
      "test_whenBaptismSourceHasDifferentChurchDenomination (source.test_whenUsingEnglishPhraseWriter.whenUsingEnglishPhraseWriter)\r\n",
      "Tests whether the summary writer puts out a section based on ... ok\r\n",
      "test_whenBaptismSourceHasMultipleChurchDenomination (source.test_whenUsingEnglishPhraseWriter.whenUsingEnglishPhraseWriter)\r\n",
      "Tests whether the summary writer puts out a section based on ... ok\r\n",
      "test_whenWritingSecondSection (source.test_whenUsingEnglishPhraseWriter.whenUsingEnglishPhraseWriter)\r\n",
      "This test asserts that the second section can be written, sub tests will be split of ... ok\r\n",
      "test_whenWritingSectionForFather (source.test_whenUsingEnglishPhraseWriter.whenUsingEnglishPhraseWriter)\r\n",
      "Tests whether the summary writer puts out a correct section ... ok\r\n",
      "test_whenWritingSectionForFatherForOtherChild (source.test_whenUsingEnglishPhraseWriter.whenUsingEnglishPhraseWriter)\r\n",
      "Tests whether the summary writer can also put out a section ... ok\r\n",
      "test_whenWritingSectionForFatherOfBothChildren (source.test_whenUsingEnglishPhraseWriter.whenUsingEnglishPhraseWriter)\r\n",
      "Tests whether the summary writer put out a section centred ... ok\r\n",
      "test_whenWritingSectionForMother (source.test_whenUsingEnglishPhraseWriter.whenUsingEnglishPhraseWriter)\r\n",
      "Tests whether the summary writer puts out a correct section ... ok\r\n",
      "\r\n",
      "----------------------------------------------------------------------\r\n",
      "Ran 7 tests in 0.008s\r\n",
      "\r\n",
      "OK\r\n"
     ]
    }
   ],
   "source": [
    "!python -m unittest -v source.test_whenUsingEnglishPhraseWriter"
   ]
  },
  {
   "cell_type": "markdown",
   "metadata": {},
   "source": [
    "### whenUsingFileParser"
   ]
  },
  {
   "cell_type": "code",
   "execution_count": 4,
   "metadata": {
    "collapsed": false
   },
   "outputs": [
    {
     "name": "stdout",
     "output_type": "stream",
     "text": [
      "test_whenWritingSectionForFatherGivenAll (source.test_whenUsingFileParser.whenUsingFileParser)\r\n",
      "Tests whether given the minimal input for both father and mother ... ok\r\n",
      "test_whenWritingSectionForFatherGivenOtherChild (source.test_whenUsingFileParser.whenUsingFileParser)\r\n",
      "Tests the same as `test_whenWritingSectionForFatherGivenAll` for a ... ok\r\n",
      "test_whenWritingSectionForFatherOfBothChildren (source.test_whenUsingFileParser.whenUsingFileParser)\r\n",
      "Tests whether given baptism input for two children, we can write a ... ok\r\n",
      "test_whenWritingSectionForMotherGivenAll (source.test_whenUsingFileParser.whenUsingFileParser)\r\n",
      "Tests whether given the minimal input for both father and mother ... ok\r\n",
      "\r\n",
      "----------------------------------------------------------------------\r\n",
      "Ran 4 tests in 0.008s\r\n",
      "\r\n",
      "OK\r\n"
     ]
    }
   ],
   "source": [
    "!python -m unittest -v source.test_whenUsingFileParser"
   ]
  },
  {
   "cell_type": "markdown",
   "metadata": {},
   "source": [
    "### whenWritingToFile"
   ]
  },
  {
   "cell_type": "code",
   "execution_count": 5,
   "metadata": {
    "collapsed": false
   },
   "outputs": [
    {
     "name": "stdout",
     "output_type": "stream",
     "text": [
      "test_whenSettingEmptyThenAskForInput (source.test_whenWritingToFile.whenWritingToFile) ... ok\r\n",
      "\r\n",
      "----------------------------------------------------------------------\r\n",
      "Ran 1 test in 0.000s\r\n",
      "\r\n",
      "OK\r\n"
     ]
    }
   ],
   "source": [
    "!python -m unittest -v source.test_whenWritingToFile"
   ]
  },
  {
   "cell_type": "markdown",
   "metadata": {},
   "source": [
    "### other"
   ]
  },
  {
   "cell_type": "code",
   "execution_count": 6,
   "metadata": {
    "collapsed": false
   },
   "outputs": [
    {
     "name": "stdout",
     "output_type": "stream",
     "text": [
      "test_summaryWriterUsesDifferentChildListingIntro (source.test_whenWritingSummary.whenWritingSummary)\n",
      "Tests whether the text written by the summary writer ... ok\n",
      "test_summaryWriterUsesProperStructure (source.test_whenWritingSummary.whenWritingSummary)\n",
      "Tests whether the text written by the summary writer ... ok\n",
      "\n",
      "----------------------------------------------------------------------\n",
      "Ran 2 tests in 0.001s\n",
      "\n",
      "OK\n",
      "test_whenAfterGUIProcessingThenOutputIsGold (source.test_acceptance.whenCheckingAgainstGoldStandard) ... ok\n",
      "test_whenGoldInputIsSet (source.test_acceptance.whenCheckingAgainstGoldStandard) ... ok\n",
      "test_templateRelativeToFatherInBaptismRecord (source.test_acceptance.whenReadingAndWritingWithTaskManager)\n",
      "Tests whether the output adheres to a predefined ... ok\n",
      "test_templateRelativeToMotherInBaptismRecord (source.test_acceptance.whenReadingAndWritingWithTaskManager)\n",
      "Tests whether the output adheres to a predefined ... ok\n",
      "test_useLanguageSettings (source.test_acceptance.whenReadingAndWritingWithTaskManager)\n",
      "Tests whether it is possible to specify the name ... ok\n",
      "test_useTaskManagerForProcessingDifferentInputFiles (source.test_acceptance.whenReadingAndWritingWithTaskManager)\n",
      "Tests whether it is possible to use an input file with ... ok\n",
      "test_useTaskManagerForProcessingDifferentOutputFiles (source.test_acceptance.whenReadingAndWritingWithTaskManager)\n",
      "Tests whether it is possible to specify the name ... ok\n",
      "\n",
      "----------------------------------------------------------------------\n",
      "Ran 7 tests in 0.014s\n",
      "\n",
      "OK\n"
     ]
    }
   ],
   "source": [
    "!python -m unittest -v source.test_whenWritingSummary\n",
    "!python -m unittest -v source.test_acceptance"
   ]
  },
  {
   "cell_type": "markdown",
   "metadata": {},
   "source": [
    "## Current status"
   ]
  },
  {
   "cell_type": "markdown",
   "metadata": {},
   "source": [
    "### load library"
   ]
  },
  {
   "cell_type": "code",
   "execution_count": 7,
   "metadata": {
    "collapsed": false
   },
   "outputs": [],
   "source": [
    "from source.settings import Settings\n",
    "from source.task_manager import TaskManager\n",
    "from source.mock_gui import MockGUI\n",
    "from source.mock_file import MockFolderAdapter"
   ]
  },
  {
   "cell_type": "code",
   "execution_count": 8,
   "metadata": {
    "collapsed": false
   },
   "outputs": [
    {
     "ename": "KeyError",
     "evalue": "'c'",
     "output_type": "error",
     "traceback": [
      "\u001b[0;31m---------------------------------------------------------------------------\u001b[0m",
      "\u001b[0;31mKeyError\u001b[0m                                  Traceback (most recent call last)",
      "\u001b[0;32m<ipython-input-8-4e39100562a4>\u001b[0m in \u001b[0;36m<module>\u001b[0;34m()\u001b[0m\n\u001b[1;32m     14\u001b[0m \u001b[0mtaskManager\u001b[0m\u001b[0;34m.\u001b[0m\u001b[0msetFolderAdapterTo\u001b[0m\u001b[0;34m(\u001b[0m\u001b[0mfolderAdapter\u001b[0m\u001b[0;34m)\u001b[0m\u001b[0;34m\u001b[0m\u001b[0m\n\u001b[1;32m     15\u001b[0m \u001b[0mtaskManager\u001b[0m\u001b[0;34m.\u001b[0m\u001b[0msetSettingsTo\u001b[0m\u001b[0;34m(\u001b[0m\u001b[0msettings\u001b[0m\u001b[0;34m)\u001b[0m\u001b[0;34m\u001b[0m\u001b[0m\n\u001b[0;32m---> 16\u001b[0;31m \u001b[0mtaskManager\u001b[0m\u001b[0;34m.\u001b[0m\u001b[0mrun\u001b[0m\u001b[0;34m(\u001b[0m\u001b[0;34m)\u001b[0m\u001b[0;34m\u001b[0m\u001b[0m\n\u001b[0m\u001b[1;32m     17\u001b[0m \u001b[0;31m# read output\u001b[0m\u001b[0;34m\u001b[0m\u001b[0;34m\u001b[0m\u001b[0m\n\u001b[1;32m     18\u001b[0m \u001b[0;32mwith\u001b[0m \u001b[0mfolderAdapter\u001b[0m\u001b[0;34m.\u001b[0m\u001b[0mopen\u001b[0m\u001b[0;34m(\u001b[0m\u001b[0;34m'summary.tex'\u001b[0m\u001b[0;34m,\u001b[0m\u001b[0;34m'r'\u001b[0m\u001b[0;34m)\u001b[0m \u001b[0;32mas\u001b[0m \u001b[0mfileObject\u001b[0m\u001b[0;34m:\u001b[0m\u001b[0;34m\u001b[0m\u001b[0m\n",
      "\u001b[0;32m/Users/mpasunder/Documents/Private/Genealogy/DasColonat/source/task_manager.py\u001b[0m in \u001b[0;36mrun\u001b[0;34m(self)\u001b[0m\n\u001b[1;32m      9\u001b[0m     \u001b[0;32mdef\u001b[0m \u001b[0mrun\u001b[0m\u001b[0;34m(\u001b[0m\u001b[0mself\u001b[0m\u001b[0;34m)\u001b[0m\u001b[0;34m:\u001b[0m\u001b[0;34m\u001b[0m\u001b[0m\n\u001b[1;32m     10\u001b[0m         \u001b[0mself\u001b[0m\u001b[0;34m.\u001b[0m\u001b[0m__initialize\u001b[0m\u001b[0;34m(\u001b[0m\u001b[0;34m)\u001b[0m\u001b[0;34m\u001b[0m\u001b[0m\n\u001b[0;32m---> 11\u001b[0;31m         \u001b[0mself\u001b[0m\u001b[0;34m.\u001b[0m\u001b[0m__go\u001b[0m\u001b[0;34m(\u001b[0m\u001b[0;34m)\u001b[0m\u001b[0;34m\u001b[0m\u001b[0m\n\u001b[0m\u001b[1;32m     12\u001b[0m \u001b[0;34m\u001b[0m\u001b[0m\n\u001b[1;32m     13\u001b[0m     \u001b[0;32mdef\u001b[0m \u001b[0m__initialize\u001b[0m\u001b[0;34m(\u001b[0m\u001b[0mself\u001b[0m\u001b[0;34m)\u001b[0m\u001b[0;34m:\u001b[0m\u001b[0;34m\u001b[0m\u001b[0m\n",
      "\u001b[0;32m/Users/mpasunder/Documents/Private/Genealogy/DasColonat/source/task_manager.py\u001b[0m in \u001b[0;36m__go\u001b[0;34m(self)\u001b[0m\n\u001b[1;32m     21\u001b[0m         \u001b[0mallPeopleData\u001b[0m  \u001b[0;34m=\u001b[0m \u001b[0mself\u001b[0m\u001b[0;34m.\u001b[0m\u001b[0m__readPeopleFromRecords\u001b[0m\u001b[0;34m(\u001b[0m\u001b[0mparsedRecords\u001b[0m\u001b[0;34m)\u001b[0m\u001b[0;34m\u001b[0m\u001b[0m\n\u001b[1;32m     22\u001b[0m         \u001b[0mself\u001b[0m\u001b[0;34m.\u001b[0m\u001b[0m__summaryWriter\u001b[0m\u001b[0;34m.\u001b[0m\u001b[0msetPeopleTo\u001b[0m\u001b[0;34m(\u001b[0m\u001b[0mallPeopleData\u001b[0m\u001b[0;34m)\u001b[0m\u001b[0;34m\u001b[0m\u001b[0m\n\u001b[0;32m---> 23\u001b[0;31m         \u001b[0mtextToSave\u001b[0m \u001b[0;34m=\u001b[0m \u001b[0mself\u001b[0m\u001b[0;34m.\u001b[0m\u001b[0m__summaryWriter\u001b[0m\u001b[0;34m.\u001b[0m\u001b[0mgetSummary\u001b[0m\u001b[0;34m(\u001b[0m\u001b[0;34m)\u001b[0m\u001b[0;34m\u001b[0m\u001b[0m\n\u001b[0m\u001b[1;32m     24\u001b[0m         \u001b[0mself\u001b[0m\u001b[0;34m.\u001b[0m\u001b[0m__fileWriter\u001b[0m\u001b[0;34m.\u001b[0m\u001b[0mwriteTextToFileToSaveTo\u001b[0m\u001b[0;34m(\u001b[0m\u001b[0mtextToSave\u001b[0m\u001b[0;34m)\u001b[0m\u001b[0;34m\u001b[0m\u001b[0m\n\u001b[1;32m     25\u001b[0m \u001b[0;34m\u001b[0m\u001b[0m\n",
      "\u001b[0;32m/Users/mpasunder/Documents/Private/Genealogy/DasColonat/source/summary_writer.py\u001b[0m in \u001b[0;36mgetSummary\u001b[0;34m(self)\u001b[0m\n\u001b[1;32m     14\u001b[0m         \u001b[0msectionHeader\u001b[0m                 \u001b[0;34m=\u001b[0m \u001b[0mself\u001b[0m\u001b[0;34m.\u001b[0m\u001b[0m__compileSectionHeader\u001b[0m\u001b[0;34m(\u001b[0m\u001b[0;34m)\u001b[0m\u001b[0;34m\u001b[0m\u001b[0m\n\u001b[1;32m     15\u001b[0m         \u001b[0mchildrenListingIntro\u001b[0m          \u001b[0;34m=\u001b[0m \u001b[0mself\u001b[0m\u001b[0;34m.\u001b[0m\u001b[0m__compileChildrenListingIntro\u001b[0m\u001b[0;34m(\u001b[0m\u001b[0;34m)\u001b[0m\u001b[0;34m\u001b[0m\u001b[0m\n\u001b[0;32m---> 16\u001b[0;31m         \u001b[0mchildrenDescriptionsInListing\u001b[0m \u001b[0;34m=\u001b[0m \u001b[0mself\u001b[0m\u001b[0;34m.\u001b[0m\u001b[0m__compileChildrenDescriptionsInListing\u001b[0m\u001b[0;34m(\u001b[0m\u001b[0;34m)\u001b[0m\u001b[0;34m\u001b[0m\u001b[0m\n\u001b[0m\u001b[1;32m     17\u001b[0m         \u001b[0msummary\u001b[0m \u001b[0;34m=\u001b[0m  \u001b[0msectionHeader\u001b[0m\u001b[0;34m+\u001b[0m\u001b[0mchildrenListingIntro\u001b[0m\u001b[0;34m+\u001b[0m\u001b[0mchildrenDescriptionsInListing\u001b[0m\u001b[0;34m\u001b[0m\u001b[0m\n\u001b[1;32m     18\u001b[0m         \u001b[0;32mreturn\u001b[0m \u001b[0mself\u001b[0m\u001b[0;34m.\u001b[0m\u001b[0m__phraseWriter\u001b[0m\u001b[0;34m.\u001b[0m\u001b[0mreplaceSpecialCharacters\u001b[0m\u001b[0;34m(\u001b[0m\u001b[0msummary\u001b[0m\u001b[0;34m)\u001b[0m\u001b[0;34m\u001b[0m\u001b[0m\n",
      "\u001b[0;32m/Users/mpasunder/Documents/Private/Genealogy/DasColonat/source/summary_writer.py\u001b[0m in \u001b[0;36m__compileChildrenDescriptionsInListing\u001b[0;34m(self)\u001b[0m\n\u001b[1;32m     19\u001b[0m \u001b[0;34m\u001b[0m\u001b[0m\n\u001b[1;32m     20\u001b[0m     \u001b[0;32mdef\u001b[0m \u001b[0m__compileChildrenDescriptionsInListing\u001b[0m\u001b[0;34m(\u001b[0m\u001b[0mself\u001b[0m\u001b[0;34m)\u001b[0m\u001b[0;34m:\u001b[0m\u001b[0;34m\u001b[0m\u001b[0m\n\u001b[0;32m---> 21\u001b[0;31m         \u001b[0maddChildListing\u001b[0m   \u001b[0;34m=\u001b[0m \u001b[0mself\u001b[0m\u001b[0;34m.\u001b[0m\u001b[0m__phraseWriter\u001b[0m\u001b[0;34m.\u001b[0m\u001b[0mchildrenDescriptionsInListing\u001b[0m\u001b[0;34m(\u001b[0m\u001b[0mself\u001b[0m\u001b[0;34m.\u001b[0m\u001b[0m__children\u001b[0m\u001b[0;34m)\u001b[0m\u001b[0;34m\u001b[0m\u001b[0m\n\u001b[0m\u001b[1;32m     22\u001b[0m         \u001b[0;32mreturn\u001b[0m \u001b[0;34m'\\n%s\\n'\u001b[0m\u001b[0;34m%\u001b[0m\u001b[0maddChildListing\u001b[0m\u001b[0;34m\u001b[0m\u001b[0m\n\u001b[1;32m     23\u001b[0m \u001b[0;34m\u001b[0m\u001b[0m\n",
      "\u001b[0;32m/Users/mpasunder/Documents/Private/Genealogy/DasColonat/source/phrase_writer.py\u001b[0m in \u001b[0;36mchildrenDescriptionsInListing\u001b[0;34m(self, children)\u001b[0m\n\u001b[1;32m     14\u001b[0m \u001b[0;34m\u001b[0m\u001b[0m\n\u001b[1;32m     15\u001b[0m     \u001b[0;32mdef\u001b[0m \u001b[0mchildrenDescriptionsInListing\u001b[0m\u001b[0;34m(\u001b[0m\u001b[0mself\u001b[0m\u001b[0;34m,\u001b[0m\u001b[0mchildren\u001b[0m\u001b[0;34m)\u001b[0m\u001b[0;34m:\u001b[0m\u001b[0;34m\u001b[0m\u001b[0m\n\u001b[0;32m---> 16\u001b[0;31m         \u001b[0mchildrenListing\u001b[0m \u001b[0;34m=\u001b[0m \u001b[0;34m[\u001b[0m\u001b[0mself\u001b[0m\u001b[0;34m.\u001b[0m\u001b[0m__compileChildDescriptionInListingOf\u001b[0m\u001b[0;34m(\u001b[0m\u001b[0mchild\u001b[0m\u001b[0;34m)\u001b[0m \u001b[0;32mfor\u001b[0m \u001b[0mchild\u001b[0m \u001b[0;32min\u001b[0m \u001b[0mchildren\u001b[0m\u001b[0;34m]\u001b[0m\u001b[0;34m\u001b[0m\u001b[0m\n\u001b[0m\u001b[1;32m     17\u001b[0m         \u001b[0;32mreturn\u001b[0m \u001b[0mself\u001b[0m\u001b[0;34m.\u001b[0m\u001b[0m__templater\u001b[0m\u001b[0;34m.\u001b[0m\u001b[0mcompileListingOf\u001b[0m\u001b[0;34m(\u001b[0m\u001b[0mchildrenListing\u001b[0m\u001b[0;34m)\u001b[0m\u001b[0;34m\u001b[0m\u001b[0m\n\u001b[1;32m     18\u001b[0m \u001b[0;34m\u001b[0m\u001b[0m\n",
      "\u001b[0;32m/Users/mpasunder/Documents/Private/Genealogy/DasColonat/source/phrase_writer.py\u001b[0m in \u001b[0;36m<listcomp>\u001b[0;34m(.0)\u001b[0m\n\u001b[1;32m     14\u001b[0m \u001b[0;34m\u001b[0m\u001b[0m\n\u001b[1;32m     15\u001b[0m     \u001b[0;32mdef\u001b[0m \u001b[0mchildrenDescriptionsInListing\u001b[0m\u001b[0;34m(\u001b[0m\u001b[0mself\u001b[0m\u001b[0;34m,\u001b[0m\u001b[0mchildren\u001b[0m\u001b[0;34m)\u001b[0m\u001b[0;34m:\u001b[0m\u001b[0;34m\u001b[0m\u001b[0m\n\u001b[0;32m---> 16\u001b[0;31m         \u001b[0mchildrenListing\u001b[0m \u001b[0;34m=\u001b[0m \u001b[0;34m[\u001b[0m\u001b[0mself\u001b[0m\u001b[0;34m.\u001b[0m\u001b[0m__compileChildDescriptionInListingOf\u001b[0m\u001b[0;34m(\u001b[0m\u001b[0mchild\u001b[0m\u001b[0;34m)\u001b[0m \u001b[0;32mfor\u001b[0m \u001b[0mchild\u001b[0m \u001b[0;32min\u001b[0m \u001b[0mchildren\u001b[0m\u001b[0;34m]\u001b[0m\u001b[0;34m\u001b[0m\u001b[0m\n\u001b[0m\u001b[1;32m     17\u001b[0m         \u001b[0;32mreturn\u001b[0m \u001b[0mself\u001b[0m\u001b[0;34m.\u001b[0m\u001b[0m__templater\u001b[0m\u001b[0;34m.\u001b[0m\u001b[0mcompileListingOf\u001b[0m\u001b[0;34m(\u001b[0m\u001b[0mchildrenListing\u001b[0m\u001b[0;34m)\u001b[0m\u001b[0;34m\u001b[0m\u001b[0m\n\u001b[1;32m     18\u001b[0m \u001b[0;34m\u001b[0m\u001b[0m\n",
      "\u001b[0;32m/Users/mpasunder/Documents/Private/Genealogy/DasColonat/source/phrase_writer.py\u001b[0m in \u001b[0;36m__compileChildDescriptionInListingOf\u001b[0;34m(self, child)\u001b[0m\n\u001b[1;32m     43\u001b[0m         \u001b[0mchildName\u001b[0m      \u001b[0;34m=\u001b[0m \u001b[0mself\u001b[0m\u001b[0;34m.\u001b[0m\u001b[0m__compileFirstNameWithPIDAndGenderOf\u001b[0m\u001b[0;34m(\u001b[0m\u001b[0mchild\u001b[0m\u001b[0;34m)\u001b[0m\u001b[0;34m\u001b[0m\u001b[0m\n\u001b[1;32m     44\u001b[0m         \u001b[0mdateOfBaptism\u001b[0m  \u001b[0;34m=\u001b[0m \u001b[0mself\u001b[0m\u001b[0;34m.\u001b[0m\u001b[0m__compileDateOfEvent\u001b[0m\u001b[0;34m(\u001b[0m\u001b[0mchild\u001b[0m\u001b[0;34m)\u001b[0m\u001b[0;34m\u001b[0m\u001b[0m\n\u001b[0;32m---> 45\u001b[0;31m         \u001b[0mplaceOfBaptism\u001b[0m \u001b[0;34m=\u001b[0m \u001b[0mself\u001b[0m\u001b[0;34m.\u001b[0m\u001b[0m__compilePlaceOfEvent\u001b[0m\u001b[0;34m(\u001b[0m\u001b[0mchild\u001b[0m\u001b[0;34m)\u001b[0m\u001b[0;34m\u001b[0m\u001b[0m\n\u001b[0m\u001b[1;32m     46\u001b[0m         inputData ={'child':childName,'onTheDate':dateOfBaptism,'beforeChurches':placeOfBaptism,\n\u001b[1;32m     47\u001b[0m                     'town': 'Freren'}\n",
      "\u001b[0;32m/Users/mpasunder/Documents/Private/Genealogy/DasColonat/source/phrase_writer.py\u001b[0m in \u001b[0;36m__compilePlaceOfEvent\u001b[0;34m(self, child)\u001b[0m\n\u001b[1;32m     89\u001b[0m                      'andChurchBoth':''}\n\u001b[1;32m     90\u001b[0m         \u001b[0;32mif\u001b[0m \u001b[0mlen\u001b[0m\u001b[0;34m(\u001b[0m\u001b[0minputData\u001b[0m\u001b[0;34m[\u001b[0m\u001b[0;34m'denom_0'\u001b[0m\u001b[0;34m]\u001b[0m\u001b[0;34m)\u001b[0m \u001b[0;34m>\u001b[0m \u001b[0;36m1\u001b[0m\u001b[0;34m:\u001b[0m\u001b[0;34m\u001b[0m\u001b[0m\n\u001b[0;32m---> 91\u001b[0;31m             \u001b[0madditionalChurchReference\u001b[0m \u001b[0;34m=\u001b[0m \u001b[0mself\u001b[0m\u001b[0;34m.\u001b[0m\u001b[0m__compileAdditionalChurch\u001b[0m\u001b[0;34m(\u001b[0m\u001b[0mchild\u001b[0m\u001b[0;34m)\u001b[0m\u001b[0;34m\u001b[0m\u001b[0m\n\u001b[0m\u001b[1;32m     92\u001b[0m             \u001b[0minputData\u001b[0m \u001b[0;34m=\u001b[0m \u001b[0;34m{\u001b[0m\u001b[0;34m**\u001b[0m\u001b[0minputData\u001b[0m\u001b[0;34m,\u001b[0m\u001b[0;34m'andChurchBoth'\u001b[0m\u001b[0;34m:\u001b[0m\u001b[0madditionalChurchReference\u001b[0m\u001b[0;34m}\u001b[0m\u001b[0;34m\u001b[0m\u001b[0m\n\u001b[1;32m     93\u001b[0m         \u001b[0mself\u001b[0m\u001b[0;34m.\u001b[0m\u001b[0m__sentences\u001b[0m\u001b[0;34m.\u001b[0m\u001b[0mselectClauseWithTag\u001b[0m\u001b[0;34m(\u001b[0m\u001b[0;34m'beforeTheChurches'\u001b[0m\u001b[0;34m)\u001b[0m\u001b[0;34m\u001b[0m\u001b[0m\n",
      "\u001b[0;32m/Users/mpasunder/Documents/Private/Genealogy/DasColonat/source/phrase_writer.py\u001b[0m in \u001b[0;36m__compileAdditionalChurch\u001b[0;34m(self, child)\u001b[0m\n\u001b[1;32m     96\u001b[0m     \u001b[0;32mdef\u001b[0m \u001b[0m__compileAdditionalChurch\u001b[0m\u001b[0;34m(\u001b[0m\u001b[0mself\u001b[0m\u001b[0;34m,\u001b[0m\u001b[0mchild\u001b[0m\u001b[0;34m)\u001b[0m\u001b[0;34m:\u001b[0m\u001b[0;34m\u001b[0m\u001b[0m\n\u001b[1;32m     97\u001b[0m         \u001b[0mself\u001b[0m\u001b[0;34m.\u001b[0m\u001b[0m__sentences\u001b[0m\u001b[0;34m.\u001b[0m\u001b[0mselectClauseWithTag\u001b[0m\u001b[0;34m(\u001b[0m\u001b[0;34m'andChurchBoth'\u001b[0m\u001b[0;34m)\u001b[0m\u001b[0;34m\u001b[0m\u001b[0m\n\u001b[0;32m---> 98\u001b[0;31m         \u001b[0;32mreturn\u001b[0m \u001b[0mself\u001b[0m\u001b[0;34m.\u001b[0m\u001b[0m__sentences\u001b[0m\u001b[0;34m.\u001b[0m\u001b[0mfillBlanksWith\u001b[0m\u001b[0;34m(\u001b[0m\u001b[0mchild\u001b[0m\u001b[0;34m)\u001b[0m\u001b[0;34m\u001b[0m\u001b[0m\n\u001b[0m\u001b[1;32m     99\u001b[0m \u001b[0;34m\u001b[0m\u001b[0m\n\u001b[1;32m    100\u001b[0m     \u001b[0;32mdef\u001b[0m \u001b[0m__compileRelationshipClause\u001b[0m\u001b[0;34m(\u001b[0m\u001b[0mself\u001b[0m\u001b[0;34m,\u001b[0m\u001b[0mmainParent\u001b[0m\u001b[0;34m,\u001b[0m\u001b[0motherParent\u001b[0m\u001b[0;34m)\u001b[0m\u001b[0;34m:\u001b[0m\u001b[0;34m\u001b[0m\u001b[0m\n",
      "\u001b[0;32m/Users/mpasunder/Documents/Private/Genealogy/DasColonat/source/language_template.py\u001b[0m in \u001b[0;36mfillBlanksWith\u001b[0;34m(self, person)\u001b[0m\n\u001b[1;32m     25\u001b[0m         \u001b[0mrequestedKeys\u001b[0m \u001b[0;34m=\u001b[0m \u001b[0mself\u001b[0m\u001b[0;34m.\u001b[0m\u001b[0m__extractKeysFromForm\u001b[0m\u001b[0;34m(\u001b[0m\u001b[0;34m)\u001b[0m\u001b[0;34m\u001b[0m\u001b[0m\n\u001b[1;32m     26\u001b[0m         \u001b[0minputData\u001b[0m \u001b[0;34m=\u001b[0m \u001b[0;34m{\u001b[0m\u001b[0mkey\u001b[0m\u001b[0;34m:\u001b[0m\u001b[0mself\u001b[0m\u001b[0;34m.\u001b[0m\u001b[0m__extractValueFromDataWithKey\u001b[0m\u001b[0;34m(\u001b[0m\u001b[0mperson\u001b[0m\u001b[0;34m,\u001b[0m\u001b[0mkey\u001b[0m\u001b[0;34m)\u001b[0m \u001b[0;32mfor\u001b[0m \u001b[0mkey\u001b[0m \u001b[0;32min\u001b[0m \u001b[0mrequestedKeys\u001b[0m\u001b[0;34m}\u001b[0m\u001b[0;34m\u001b[0m\u001b[0m\n\u001b[0;32m---> 27\u001b[0;31m         \u001b[0;32mreturn\u001b[0m \u001b[0mself\u001b[0m\u001b[0;34m.\u001b[0m\u001b[0mfillOutBlanksWith\u001b[0m\u001b[0;34m(\u001b[0m\u001b[0minputData\u001b[0m\u001b[0;34m)\u001b[0m\u001b[0;34m\u001b[0m\u001b[0m\n\u001b[0m\u001b[1;32m     28\u001b[0m \u001b[0;34m\u001b[0m\u001b[0m\n\u001b[1;32m     29\u001b[0m     \u001b[0;32mdef\u001b[0m \u001b[0mfillOutBlanksWith\u001b[0m\u001b[0;34m(\u001b[0m\u001b[0mself\u001b[0m\u001b[0;34m,\u001b[0m\u001b[0minputData\u001b[0m\u001b[0;34m)\u001b[0m\u001b[0;34m:\u001b[0m\u001b[0;34m\u001b[0m\u001b[0m\n",
      "\u001b[0;32m/Users/mpasunder/Documents/Private/Genealogy/DasColonat/source/language_template.py\u001b[0m in \u001b[0;36mfillOutBlanksWith\u001b[0;34m(self, inputData)\u001b[0m\n\u001b[1;32m     28\u001b[0m \u001b[0;34m\u001b[0m\u001b[0m\n\u001b[1;32m     29\u001b[0m     \u001b[0;32mdef\u001b[0m \u001b[0mfillOutBlanksWith\u001b[0m\u001b[0;34m(\u001b[0m\u001b[0mself\u001b[0m\u001b[0;34m,\u001b[0m\u001b[0minputData\u001b[0m\u001b[0;34m)\u001b[0m\u001b[0;34m:\u001b[0m\u001b[0;34m\u001b[0m\u001b[0m\n\u001b[0;32m---> 30\u001b[0;31m         \u001b[0minputData\u001b[0m \u001b[0;34m=\u001b[0m \u001b[0mself\u001b[0m\u001b[0;34m.\u001b[0m\u001b[0m__formatInputData\u001b[0m\u001b[0;34m(\u001b[0m\u001b[0minputData\u001b[0m\u001b[0;34m)\u001b[0m\u001b[0;34m\u001b[0m\u001b[0m\n\u001b[0m\u001b[1;32m     31\u001b[0m         \u001b[0;32mreturn\u001b[0m \u001b[0mself\u001b[0m\u001b[0;34m.\u001b[0m\u001b[0m__substituteBlanksWith\u001b[0m\u001b[0;34m(\u001b[0m\u001b[0minputData\u001b[0m\u001b[0;34m)\u001b[0m\u001b[0;34m\u001b[0m\u001b[0m\n\u001b[1;32m     32\u001b[0m \u001b[0;34m\u001b[0m\u001b[0m\n",
      "\u001b[0;32m/Users/mpasunder/Documents/Private/Genealogy/DasColonat/source/language_template.py\u001b[0m in \u001b[0;36m__formatInputData\u001b[0;34m(self, inputData)\u001b[0m\n\u001b[1;32m     32\u001b[0m \u001b[0;34m\u001b[0m\u001b[0m\n\u001b[1;32m     33\u001b[0m     \u001b[0;32mdef\u001b[0m \u001b[0m__formatInputData\u001b[0m\u001b[0;34m(\u001b[0m\u001b[0mself\u001b[0m\u001b[0;34m,\u001b[0m\u001b[0minputData\u001b[0m\u001b[0;34m)\u001b[0m\u001b[0;34m:\u001b[0m\u001b[0;34m\u001b[0m\u001b[0m\n\u001b[0;32m---> 34\u001b[0;31m         \u001b[0;32mreturn\u001b[0m \u001b[0;34m{\u001b[0m\u001b[0mkey\u001b[0m\u001b[0;34m:\u001b[0m\u001b[0mself\u001b[0m\u001b[0;34m.\u001b[0m\u001b[0m__formatValueForKey\u001b[0m\u001b[0;34m(\u001b[0m\u001b[0minputData\u001b[0m\u001b[0;34m[\u001b[0m\u001b[0mkey\u001b[0m\u001b[0;34m]\u001b[0m\u001b[0;34m,\u001b[0m\u001b[0mkey\u001b[0m\u001b[0;34m)\u001b[0m \u001b[0;32mfor\u001b[0m \u001b[0mkey\u001b[0m \u001b[0;32min\u001b[0m \u001b[0minputData\u001b[0m\u001b[0;34m}\u001b[0m\u001b[0;34m\u001b[0m\u001b[0m\n\u001b[0m\u001b[1;32m     35\u001b[0m \u001b[0;34m\u001b[0m\u001b[0m\n\u001b[1;32m     36\u001b[0m     \u001b[0;32mdef\u001b[0m \u001b[0m__formatValueForKey\u001b[0m\u001b[0;34m(\u001b[0m\u001b[0mself\u001b[0m\u001b[0;34m,\u001b[0m\u001b[0mvalue\u001b[0m\u001b[0;34m,\u001b[0m\u001b[0mkey\u001b[0m\u001b[0;34m)\u001b[0m\u001b[0;34m:\u001b[0m\u001b[0;34m\u001b[0m\u001b[0m\n",
      "\u001b[0;32m/Users/mpasunder/Documents/Private/Genealogy/DasColonat/source/language_template.py\u001b[0m in \u001b[0;36m<dictcomp>\u001b[0;34m(.0)\u001b[0m\n\u001b[1;32m     32\u001b[0m \u001b[0;34m\u001b[0m\u001b[0m\n\u001b[1;32m     33\u001b[0m     \u001b[0;32mdef\u001b[0m \u001b[0m__formatInputData\u001b[0m\u001b[0;34m(\u001b[0m\u001b[0mself\u001b[0m\u001b[0;34m,\u001b[0m\u001b[0minputData\u001b[0m\u001b[0;34m)\u001b[0m\u001b[0;34m:\u001b[0m\u001b[0;34m\u001b[0m\u001b[0m\n\u001b[0;32m---> 34\u001b[0;31m         \u001b[0;32mreturn\u001b[0m \u001b[0;34m{\u001b[0m\u001b[0mkey\u001b[0m\u001b[0;34m:\u001b[0m\u001b[0mself\u001b[0m\u001b[0;34m.\u001b[0m\u001b[0m__formatValueForKey\u001b[0m\u001b[0;34m(\u001b[0m\u001b[0minputData\u001b[0m\u001b[0;34m[\u001b[0m\u001b[0mkey\u001b[0m\u001b[0;34m]\u001b[0m\u001b[0;34m,\u001b[0m\u001b[0mkey\u001b[0m\u001b[0;34m)\u001b[0m \u001b[0;32mfor\u001b[0m \u001b[0mkey\u001b[0m \u001b[0;32min\u001b[0m \u001b[0minputData\u001b[0m\u001b[0;34m}\u001b[0m\u001b[0;34m\u001b[0m\u001b[0m\n\u001b[0m\u001b[1;32m     35\u001b[0m \u001b[0;34m\u001b[0m\u001b[0m\n\u001b[1;32m     36\u001b[0m     \u001b[0;32mdef\u001b[0m \u001b[0m__formatValueForKey\u001b[0m\u001b[0;34m(\u001b[0m\u001b[0mself\u001b[0m\u001b[0;34m,\u001b[0m\u001b[0mvalue\u001b[0m\u001b[0;34m,\u001b[0m\u001b[0mkey\u001b[0m\u001b[0;34m)\u001b[0m\u001b[0;34m:\u001b[0m\u001b[0;34m\u001b[0m\u001b[0m\n",
      "\u001b[0;32m/Users/mpasunder/Documents/Private/Genealogy/DasColonat/source/language_template.py\u001b[0m in \u001b[0;36m__formatValueForKey\u001b[0;34m(self, value, key)\u001b[0m\n\u001b[1;32m     36\u001b[0m     \u001b[0;32mdef\u001b[0m \u001b[0m__formatValueForKey\u001b[0m\u001b[0;34m(\u001b[0m\u001b[0mself\u001b[0m\u001b[0;34m,\u001b[0m\u001b[0mvalue\u001b[0m\u001b[0;34m,\u001b[0m\u001b[0mkey\u001b[0m\u001b[0;34m)\u001b[0m\u001b[0;34m:\u001b[0m\u001b[0;34m\u001b[0m\u001b[0m\n\u001b[1;32m     37\u001b[0m         \u001b[0mvalue\u001b[0m \u001b[0;34m=\u001b[0m \u001b[0mself\u001b[0m\u001b[0;34m.\u001b[0m\u001b[0m__formatValueForPostFixes\u001b[0m\u001b[0;34m(\u001b[0m\u001b[0mvalue\u001b[0m\u001b[0;34m,\u001b[0m\u001b[0mkey\u001b[0m\u001b[0;34m)\u001b[0m\u001b[0;34m\u001b[0m\u001b[0m\n\u001b[0;32m---> 38\u001b[0;31m         \u001b[0mvalue\u001b[0m \u001b[0;34m=\u001b[0m \u001b[0mself\u001b[0m\u001b[0;34m.\u001b[0m\u001b[0m__translateValueForKey\u001b[0m\u001b[0;34m(\u001b[0m\u001b[0mvalue\u001b[0m\u001b[0;34m,\u001b[0m\u001b[0mkey\u001b[0m\u001b[0;34m)\u001b[0m\u001b[0;34m\u001b[0m\u001b[0m\n\u001b[0m\u001b[1;32m     39\u001b[0m         \u001b[0;32mreturn\u001b[0m \u001b[0mvalue\u001b[0m\u001b[0;34m\u001b[0m\u001b[0m\n\u001b[1;32m     40\u001b[0m \u001b[0;34m\u001b[0m\u001b[0m\n",
      "\u001b[0;32m/Users/mpasunder/Documents/Private/Genealogy/DasColonat/source/language_template.py\u001b[0m in \u001b[0;36m__translateValueForKey\u001b[0;34m(self, value, key)\u001b[0m\n\u001b[1;32m     58\u001b[0m         \u001b[0mkey\u001b[0m   \u001b[0;34m=\u001b[0m \u001b[0mself\u001b[0m\u001b[0;34m.\u001b[0m\u001b[0m__removePostFix\u001b[0m\u001b[0;34m(\u001b[0m\u001b[0mkey\u001b[0m\u001b[0;34m)\u001b[0m\u001b[0;34m\u001b[0m\u001b[0m\n\u001b[1;32m     59\u001b[0m         \u001b[0;32mif\u001b[0m \u001b[0mkey\u001b[0m \u001b[0;34m==\u001b[0m \u001b[0;34m'month'\u001b[0m\u001b[0;34m:\u001b[0m   \u001b[0;32mreturn\u001b[0m \u001b[0mself\u001b[0m\u001b[0;34m.\u001b[0m\u001b[0m_months\u001b[0m\u001b[0;34m[\u001b[0m\u001b[0mint\u001b[0m\u001b[0;34m(\u001b[0m\u001b[0mvalue\u001b[0m\u001b[0;34m)\u001b[0m\u001b[0;34m]\u001b[0m\u001b[0;34m\u001b[0m\u001b[0m\n\u001b[0;32m---> 60\u001b[0;31m         \u001b[0;32melif\u001b[0m \u001b[0mkey\u001b[0m \u001b[0;34m==\u001b[0m \u001b[0;34m'denom'\u001b[0m\u001b[0;34m:\u001b[0m \u001b[0;32mreturn\u001b[0m \u001b[0mself\u001b[0m\u001b[0;34m.\u001b[0m\u001b[0m_denoms\u001b[0m\u001b[0;34m[\u001b[0m\u001b[0mvalue\u001b[0m\u001b[0;34m]\u001b[0m\u001b[0;34m\u001b[0m\u001b[0m\n\u001b[0m\u001b[1;32m     61\u001b[0m         \u001b[0;32melse\u001b[0m\u001b[0;34m:\u001b[0m                \u001b[0;32mreturn\u001b[0m \u001b[0mvalue\u001b[0m\u001b[0;34m\u001b[0m\u001b[0m\n\u001b[1;32m     62\u001b[0m \u001b[0;34m\u001b[0m\u001b[0m\n",
      "\u001b[0;31mKeyError\u001b[0m: 'c'"
     ]
    }
   ],
   "source": [
    "# define mock input\n",
    "STR_INPUT = 'father;;;mother;;child;;;;;\\n'+\\\n",
    "            'PID;firstName;lastName;PID;firstName;PID;firstName;day;month;year;denom\\n'+\\\n",
    "            '(Fr0);Jois;Sunder;x1(Fr0);Alheid;(Fr0.1);Wolterus;18;12;1661;rc' \n",
    "GOLD_SETTINGS = {'filesToLoadFrom':['baptism.csv'],\\\n",
    "                 'filesToSaveTo':'summary.tex',\n",
    "                 'roleOfMain':'father'}\n",
    "# write a mock file with input\n",
    "folderAdapter = MockFolderAdapter()\n",
    "with folderAdapter.open('baptism.csv','w') as fileObject:\n",
    "            fileObject.write(STR_INPUT)\n",
    "# setup settings\n",
    "settings = Settings.setTo(GOLD_SETTINGS)\n",
    "theGUI   = MockGUI()\n",
    "taskManager = TaskManager()\n",
    "taskManager.setGUITo(theGUI)\n",
    "taskManager.setFolderAdapterTo(folderAdapter)\n",
    "taskManager.setSettingsTo(settings)\n",
    "taskManager.run()\n",
    "# read output\n",
    "with folderAdapter.open('summary.tex','r') as fileObject:\n",
    "            content = fileObject.read()\n",
    "content = content.replace('\\t','\\\\t')\n",
    "content = content.replace('\\r','\\\\r')\n",
    "print(content.replace('\\b','\\\\b'))"
   ]
  },
  {
   "cell_type": "markdown",
   "metadata": {},
   "source": [
    "### Use Case: createSummary"
   ]
  },
  {
   "cell_type": "markdown",
   "metadata": {},
   "source": [
    "**Use Case**: create a summary <br>\n",
    "**Actor**:    user <br>\n",
    "**Brief:** <br>\n",
    "create a summary of a selection of data and put the output in a suitable LaTeX-format that allows a PDF to be put out by running 'overview.tex'. <br>\n",
    "<br>\n",
    "**Basic Flow:**<br>\n",
    "\n",
    "1) Select a person/people from a selection of available people. <br>\n",
    "\n",
    "2) Compose a summary for that person. <br>\n",
    "\n",
    "3) Run the pdf. <br>\n",
    "\n",
    "**Input:**<br>\n",
    "\n",
    "The programm shall be runnable through default settings that are specified in the settings.\n",
    "\n",
    "<table>\n",
    "    <tr>\n",
    "        <td width=\"100\"> **name** </td>\n",
    "        <td width=\"200\"> **type/options** </td>\n",
    "        <td> ** description ** </td>\n",
    "    </tr>\n",
    "    <tr>\n",
    "        <td width=\"100\"> *filesToLoadFrom* </td>\n",
    "        <td width=\"200\"> str </td>\n",
    "        <td>: The name of the file with the input data. </td>\n",
    "    </tr>\n",
    "    <tr>\n",
    "        <td> *filesToSaveTo*</td>\n",
    "        <td> str </td>\n",
    "        <td>: The name of the file to which the output is written.</td>\n",
    "    </tr>\n",
    "        <tr>\n",
    "        <td> *language*</td>\n",
    "        <td> $\\text{str} \\in \\{$'en','nl','de'$\\}$ where by default: language='en' </td>\n",
    "        <td>: The language of the output summary, implemented options are: english, dutch and german.</td>\n",
    "    </tr>\n",
    "</table>"
   ]
  },
  {
   "cell_type": "code",
   "execution_count": null,
   "metadata": {
    "collapsed": false
   },
   "outputs": [],
   "source": []
  },
  {
   "cell_type": "code",
   "execution_count": null,
   "metadata": {
    "collapsed": true
   },
   "outputs": [],
   "source": []
  }
 ],
 "metadata": {
  "anaconda-cloud": {},
  "kernelspec": {
   "display_name": "Python [anaconda3]",
   "language": "python",
   "name": "Python [anaconda3]"
  },
  "language_info": {
   "codemirror_mode": {
    "name": "ipython",
    "version": 3
   },
   "file_extension": ".py",
   "mimetype": "text/x-python",
   "name": "python",
   "nbconvert_exporter": "python",
   "pygments_lexer": "ipython3",
   "version": "3.5.2"
  }
 },
 "nbformat": 4,
 "nbformat_minor": 0
}
