{
 "cells": [
  {
   "cell_type": "markdown",
   "metadata": {},
   "source": [
    "# DasColonat - GUI"
   ]
  },
  {
   "cell_type": "markdown",
   "metadata": {},
   "source": [
    "## Testers"
   ]
  },
  {
   "cell_type": "code",
   "execution_count": 1,
   "metadata": {
    "collapsed": false
   },
   "outputs": [
    {
     "name": "stdout",
     "output_type": "stream",
     "text": [
      "test_whenAnswerToAskToLoadIsNoWhenOnlyOneFileInDirectory (source.test_whenLoadingInput.whenLoadingInput) ... ok\r\n",
      "test_whenInputDirectoryEmptyThenRaiseError (source.test_whenLoadingInput.whenLoadingInput) ... ok\r\n",
      "test_whenInputDirectoryHasCSVFileThenAskToLoad (source.test_whenLoadingInput.whenLoadingInput) ... ok\r\n",
      "test_whenInputDirectoryWithOneFileNoCSVFileThenRaiseError (source.test_whenLoadingInput.whenLoadingInput) ... ok\r\n",
      "test_whenInputDirectoryWithTwoCSVFilesThenAskToLoadTwice (source.test_whenLoadingInput.whenLoadingInput) ... ok\r\n",
      "test_whenInputDirectoryWithTwoFilesNoCSVFileThenRaiseError (source.test_whenLoadingInput.whenLoadingInput) ... ok\r\n",
      "test_whenInputDirectoryWithTwoFilesOneCSVFileThenAskToLoad (source.test_whenLoadingInput.whenLoadingInput) ... ok\r\n",
      "\r\n",
      "----------------------------------------------------------------------\r\n",
      "Ran 7 tests in 0.003s\r\n",
      "\r\n",
      "OK\r\n"
     ]
    }
   ],
   "source": [
    "!python -m unittest -v source.test_whenLoadingInput"
   ]
  },
  {
   "cell_type": "markdown",
   "metadata": {},
   "source": [
    "## Operations"
   ]
  },
  {
   "cell_type": "markdown",
   "metadata": {},
   "source": [
    "### load library"
   ]
  },
  {
   "cell_type": "code",
   "execution_count": 2,
   "metadata": {
    "collapsed": false
   },
   "outputs": [],
   "source": [
    "from source.write_summary import SummaryWriter"
   ]
  },
  {
   "cell_type": "code",
   "execution_count": 3,
   "metadata": {
    "collapsed": false
   },
   "outputs": [
    {
     "data": {
      "text/plain": [
       "<source.write_summary.SummaryWriter at 0x105a712b0>"
      ]
     },
     "execution_count": 3,
     "metadata": {},
     "output_type": "execute_result"
    }
   ],
   "source": [
    "SummaryWriter()"
   ]
  },
  {
   "cell_type": "markdown",
   "metadata": {},
   "source": [
    "### Use Case: createSummary"
   ]
  },
  {
   "cell_type": "markdown",
   "metadata": {},
   "source": [
    "**Use Case**: create a summary <br>\n",
    "**Actor**:    user <br>\n",
    "**Brief:** <br>\n",
    "create a summary of a selection of data and put the output in a suitable LaTeX-format that allows a PDF to be put out by running 'overview.tex'. <br>\n",
    "<br>\n",
    "**Basic Flow:**<br>\n",
    "\n",
    "1) Select a person/people from a selection of available people. <br>\n",
    "\n",
    "2) Compose a summary for that person. <br>\n",
    "\n",
    "3) Run the pdf. <br>"
   ]
  },
  {
   "cell_type": "code",
   "execution_count": 4,
   "metadata": {
    "collapsed": false
   },
   "outputs": [
    {
     "ename": "NoInputError",
     "evalue": "The directory was found to be empty!",
     "output_type": "error",
     "traceback": [
      "\u001b[0;31m---------------------------------------------------------------------------\u001b[0m",
      "\u001b[0;31mNoInputError\u001b[0m                              Traceback (most recent call last)",
      "\u001b[0;32m<ipython-input-4-d281e10b30d4>\u001b[0m in \u001b[0;36m<module>\u001b[0;34m()\u001b[0m\n\u001b[1;32m      2\u001b[0m     \u001b[0;34m\"\"\"Use when input directory has no database files to select.\"\"\"\u001b[0m\u001b[0;34m\u001b[0m\u001b[0m\n\u001b[1;32m      3\u001b[0m \u001b[0;34m\u001b[0m\u001b[0m\n\u001b[0;32m----> 4\u001b[0;31m \u001b[0;32mraise\u001b[0m \u001b[0mNoInputError\u001b[0m\u001b[0;34m(\u001b[0m\u001b[0;34m'The directory was found to be empty!'\u001b[0m\u001b[0;34m)\u001b[0m\u001b[0;34m\u001b[0m\u001b[0m\n\u001b[0m",
      "\u001b[0;31mNoInputError\u001b[0m: The directory was found to be empty!"
     ]
    }
   ],
   "source": [
    "class NoInputError(OSError):\n",
    "    \"\"\"Use when input directory has no database files to select.\"\"\"\n",
    "\n",
    "raise NoInputError('The directory was found to be empty!')"
   ]
  },
  {
   "cell_type": "code",
   "execution_count": null,
   "metadata": {
    "collapsed": true
   },
   "outputs": [],
   "source": []
  }
 ],
 "metadata": {
  "anaconda-cloud": {},
  "kernelspec": {
   "display_name": "Python [anaconda3]",
   "language": "python",
   "name": "Python [anaconda3]"
  },
  "language_info": {
   "codemirror_mode": {
    "name": "ipython",
    "version": 3
   },
   "file_extension": ".py",
   "mimetype": "text/x-python",
   "name": "python",
   "nbconvert_exporter": "python",
   "pygments_lexer": "ipython3",
   "version": "3.5.2"
  }
 },
 "nbformat": 4,
 "nbformat_minor": 0
}
