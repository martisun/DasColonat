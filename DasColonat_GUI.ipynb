{
 "cells": [
  {
   "cell_type": "markdown",
   "metadata": {},
   "source": [
    "# DasColonat - GUI"
   ]
  },
  {
   "cell_type": "markdown",
   "metadata": {},
   "source": [
    "## Testers\n",
    "### whenUsingMockFile"
   ]
  },
  {
   "cell_type": "code",
   "execution_count": 1,
   "metadata": {
    "collapsed": false
   },
   "outputs": [
    {
     "name": "stdout",
     "output_type": "stream",
     "text": [
      "test_outputEqualsEmptyInput (source.test_whenUsingMockFile.whenFileOpenedForWriting) ... ok\r\n",
      "test_whenDoneWritingThenCloseFile (source.test_whenUsingMockFile.whenFileOpenedForWriting) ... ok\r\n",
      "test_whenFileNotClosedThenContentNotAvailable (source.test_whenUsingMockFile.whenFileOpenedForWriting) ... ok\r\n",
      "test_whenWriteThenOpenedWithPermission (source.test_whenUsingMockFile.whenFileOpenedForWriting) ... ok\r\n",
      "test_whenReadingWithWith (source.test_whenUsingMockFile.whenFileWasCreated) ... ok\r\n",
      "test_whenWrittenThenNoError (source.test_whenUsingMockFile.whenFileWasCreated) ... ok\r\n",
      "test_whenOpeningWithWithThenProperFile (source.test_whenUsingMockFile.whenOpeningWithWith) ... ok\r\n",
      "test_whenNotWrittenRaisesFileNotFoundError (source.test_whenUsingMockFile.whenReadingFile) ... ok\r\n",
      "test_whenOtherWrittenThenRaisesFileNotFoundError (source.test_whenUsingMockFile.whenReadingFile) ... ok\r\n",
      "\r\n",
      "----------------------------------------------------------------------\r\n",
      "Ran 9 tests in 0.001s\r\n",
      "\r\n",
      "OK\r\n"
     ]
    }
   ],
   "source": [
    "!python -m unittest -v source.test_whenUsingMockFile"
   ]
  },
  {
   "cell_type": "markdown",
   "metadata": {},
   "source": [
    "### whenLoadingInput"
   ]
  },
  {
   "cell_type": "code",
   "execution_count": 10,
   "metadata": {
    "collapsed": false
   },
   "outputs": [
    {
     "name": "stdout",
     "output_type": "stream",
     "text": [
      "test00_whenInputDirectoryEmptyThenRaiseError (source.test_whenLoadingInput.whenFilesToLoadFromSettingIsEmpty) ... ok\r\n",
      "test01_whenInputDirectoryWithOneFileNoCSVFileThenRaiseError (source.test_whenLoadingInput.whenFilesToLoadFromSettingIsEmpty) ... ok\r\n",
      "test02_whenInputDirectoryHasCSVFileThenAskToLoad (source.test_whenLoadingInput.whenFilesToLoadFromSettingIsEmpty) ... ok\r\n",
      "test03_whenAnswerToAskToLoadIsNoWhenOnlyOneFileInDirectory (source.test_whenLoadingInput.whenFilesToLoadFromSettingIsEmpty) ... ok\r\n",
      "test04_whenInputDirectoryWithTwoFilesNoCSVFileThenRaiseError (source.test_whenLoadingInput.whenFilesToLoadFromSettingIsEmpty) ... ok\r\n",
      "test05_whenInputDirectoryWithTwoFilesOneCSVFileThenAskToLoad (source.test_whenLoadingInput.whenFilesToLoadFromSettingIsEmpty) ... ok\r\n",
      "test06_whenInputDirectoryWithTwoCSVFilesThenAskToLoadTwice (source.test_whenLoadingInput.whenFilesToLoadFromSettingIsEmpty) ... ok\r\n",
      "test10_whenFileInSettingOnlyFileNoQuestionsAsked (source.test_whenLoadingInput.whenFilesToLoadFromSettingIsNonEmpty) ... ok\r\n",
      "test11_whenFileInSettingNotPresentAskToLoadOtherFile (source.test_whenLoadingInput.whenFilesToLoadFromSettingIsNonEmpty) ... ok\r\n",
      "test12_whenFileInSettingButNoFileAskToRemoveFromSettings (source.test_whenLoadingInput.whenFilesToLoadFromSettingIsNonEmpty) ... ok\r\n",
      "test13_whenFileInSettingButNoFileThenRemoveFromSettings (source.test_whenLoadingInput.whenFilesToLoadFromSettingIsNonEmpty) ... ok\r\n",
      "test14_whenFileInSettingButNoFileThenDontRemoveFromSettings (source.test_whenLoadingInput.whenFilesToLoadFromSettingIsNonEmpty) ... ok\r\n",
      "test21_whenFilesInSettingOnlyFilesNoQuestionsAsked (source.test_whenLoadingInput.whenSettingHasMultipleEntries) ... ok\r\n",
      "test22_whenFirstFileInSettingAskToRemoveSecond (source.test_whenLoadingInput.whenSettingHasMultipleEntries) ... ok\r\n",
      "test23_whenSecondFileInSettingAskToRemoveFirst (source.test_whenLoadingInput.whenSettingHasMultipleEntries) ... ok\r\n",
      "test24_whenTwoFilesInSettingAskToRemoveBoth (source.test_whenLoadingInput.whenSettingHasMultipleEntries) ... ok\r\n",
      "\r\n",
      "----------------------------------------------------------------------\r\n",
      "Ran 16 tests in 0.004s\r\n",
      "\r\n",
      "OK\r\n"
     ]
    }
   ],
   "source": [
    "!python -m unittest -v source.test_whenLoadingInput"
   ]
  },
  {
   "cell_type": "markdown",
   "metadata": {},
   "source": [
    "### whenUsingEnglishPhraseWriter"
   ]
  },
  {
   "cell_type": "code",
   "execution_count": 17,
   "metadata": {
    "collapsed": false,
    "scrolled": true
   },
   "outputs": [
    {
     "name": "stdout",
     "output_type": "stream",
     "text": [
      "test_whenBaptismSourceHasDifferentChurchDenomination (source.test_whenUsingEnglishPhraseWriter.whenUsingEnglishPhraseWriter)\n",
      "Tests whether the summary writer puts out a section based on ... ok\n",
      "test_whenBaptismSourceHasMultipleChurchDenomination (source.test_whenUsingEnglishPhraseWriter.whenUsingEnglishPhraseWriter)\n",
      "Tests whether the summary writer puts out a section based on ... ok\n",
      "test_whenParentsRecordedButNoLifeEvent (source.test_whenUsingEnglishPhraseWriter.whenUsingEnglishPhraseWriter)\n",
      "Tests whether the summary writer puts out a section for a child ... ok\n",
      "test_whenWritingSecondSection (source.test_whenUsingEnglishPhraseWriter.whenUsingEnglishPhraseWriter)\n",
      "This test asserts that the second section can be written, sub tests will be split of ... ok\n",
      "test_whenWritingSectionForFather (source.test_whenUsingEnglishPhraseWriter.whenUsingEnglishPhraseWriter)\n",
      "Tests whether the summary writer puts out a correct section ... ok\n",
      "test_whenWritingSectionForFatherForOtherChild (source.test_whenUsingEnglishPhraseWriter.whenUsingEnglishPhraseWriter)\n",
      "Tests whether the summary writer can also put out a section ... ok\n",
      "test_whenWritingSectionForFatherOfBothChildren (source.test_whenUsingEnglishPhraseWriter.whenUsingEnglishPhraseWriter)\n",
      "Tests whether the summary writer put out a section centred ... ok\n",
      "test_whenWritingSectionForMother (source.test_whenUsingEnglishPhraseWriter.whenUsingEnglishPhraseWriter)\n",
      "Tests whether the summary writer puts out a correct section ... ok\n",
      "test_whenWritingThirdSection (source.test_whenUsingEnglishPhraseWriter.whenUsingEnglishPhraseWriter)\n",
      "This test asserts that the third section can be written, sub tests will be split of ... ok\n",
      "\n",
      "----------------------------------------------------------------------\n",
      "Ran 9 tests in 0.014s\n",
      "\n",
      "OK\n"
     ]
    }
   ],
   "source": [
    "!python -m unittest -v source.test_whenUsingEnglishPhraseWriter"
   ]
  },
  {
   "cell_type": "markdown",
   "metadata": {},
   "source": [
    "### whenUsingFileParser"
   ]
  },
  {
   "cell_type": "code",
   "execution_count": 12,
   "metadata": {
    "collapsed": false
   },
   "outputs": [
    {
     "name": "stdout",
     "output_type": "stream",
     "text": [
      "test_whenWritingSecondSection (source.test_whenUsingFileParser.whenUsingFileParser)\r\n",
      "This test asserts that the third section can be written, sub tests will be split of ... Two strings agree up to:\r\n",
      "\r\n",
      "actual: \r\n",
      "\\section{\\pidt{(Fr1.1)}-- -->|Jan --~\\Mars}\\label{sec:(Fr1.1)}\r\n",
      "\r\n",
      "|<--\r\n",
      "\r\n",
      "expected: \r\n",
      "\\section{\\pidt{(Fr1.1)}-- -->|Sunder, Jan --~\\Mars}\\label{sec:(Fr1.1)}\r\n",
      "\r\n",
      "Jan \\textbf{S}under\\pids{(Fr1.1)}, son of Jan \\textbf{S}under\\pids{(Fr1)} and Tela \\textbf{M}ouwe\\pids{x1(Fr1)}, was baptised on the 13\\supscr{th} of December 1711 before the catholic church of the {\\it St. Vitus} parish and the reformed church, both at Freren.|<--\r\n",
      "\r\n",
      "FAIL\r\n",
      "test_whenWritingSectionForFatherGivenAll (source.test_whenUsingFileParser.whenUsingFileParser)\r\n",
      "Tests whether given the minimal input for both father and mother ... ok\r\n",
      "test_whenWritingSectionForFatherGivenOtherChild (source.test_whenUsingFileParser.whenUsingFileParser)\r\n",
      "Tests the same as `test_whenWritingSectionForFatherGivenAll` for a ... ok\r\n",
      "test_whenWritingSectionForFatherOfBothChildren (source.test_whenUsingFileParser.whenUsingFileParser)\r\n",
      "Tests whether given baptism input for two children, we can write a ... ok\r\n",
      "test_whenWritingSectionForMotherGivenAll (source.test_whenUsingFileParser.whenUsingFileParser)\r\n",
      "Tests whether given the minimal input for both father and mother ... ok\r\n",
      "\r\n",
      "======================================================================\r\n",
      "FAIL: test_whenWritingSecondSection (source.test_whenUsingFileParser.whenUsingFileParser)\r\n",
      "This test asserts that the third section can be written, sub tests will be split of\r\n",
      "----------------------------------------------------------------------\r\n",
      "Traceback (most recent call last):\r\n",
      "  File \"/Users/mpasunder/Documents/Private/Genealogy/DasColonat/source/test_whenUsingFileParser.py\", line 60, in test_whenWritingSecondSection\r\n",
      "    self._assertActualEqualsExpected(actual,TEST_OUTPUT['(Fr1.1)'])\r\n",
      "  File \"/Users/mpasunder/Documents/Private/Genealogy/DasColonat/source/extended_testcase.py\", line 7, in _assertActualEqualsExpected\r\n",
      "    self.assertTrue(assertion)\r\n",
      "AssertionError: False is not true\r\n",
      "\r\n",
      "----------------------------------------------------------------------\r\n",
      "Ran 5 tests in 0.009s\r\n",
      "\r\n",
      "FAILED (failures=1)\r\n"
     ]
    }
   ],
   "source": [
    "!python -m unittest -v source.test_whenUsingFileParser"
   ]
  },
  {
   "cell_type": "markdown",
   "metadata": {},
   "source": [
    "### whenWritingToFile"
   ]
  },
  {
   "cell_type": "code",
   "execution_count": 5,
   "metadata": {
    "collapsed": false
   },
   "outputs": [
    {
     "name": "stdout",
     "output_type": "stream",
     "text": [
      "test_whenWritingToFile (unittest.loader._FailedTest) ... ERROR\r\n",
      "\r\n",
      "======================================================================\r\n",
      "ERROR: test_whenWritingToFile (unittest.loader._FailedTest)\r\n",
      "----------------------------------------------------------------------\r\n",
      "ImportError: Failed to import test module: test_whenWritingToFile\r\n",
      "Traceback (most recent call last):\r\n",
      "  File \"/Users/mpasunder/anaconda3/lib/python3.5/unittest/loader.py\", line 153, in loadTestsFromName\r\n",
      "    module = __import__(module_name)\r\n",
      "  File \"/Users/mpasunder/Documents/Private/Genealogy/DasColonat/source/test_whenWritingToFile.py\", line 5, in <module>\r\n",
      "    from source.settings import Settings\r\n",
      "  File \"/Users/mpasunder/Documents/Private/Genealogy/DasColonat/source/settings.py\", line 1, in <module>\r\n",
      "    from source.phrase_writer import PhraseWriter\r\n",
      "  File \"/Users/mpasunder/Documents/Private/Genealogy/DasColonat/source/phrase_writer.py\", line 2, in <module>\r\n",
      "    from source.language_template import SentenceSelector\r\n",
      "ImportError: No module named 'source.language_template'\r\n",
      "\r\n",
      "\r\n",
      "----------------------------------------------------------------------\r\n",
      "Ran 1 test in 0.000s\r\n",
      "\r\n",
      "FAILED (errors=1)\r\n"
     ]
    }
   ],
   "source": [
    "!python -m unittest -v source.test_whenWritingToFile"
   ]
  },
  {
   "cell_type": "markdown",
   "metadata": {},
   "source": [
    "### whenWritingSummary"
   ]
  },
  {
   "cell_type": "code",
   "execution_count": 6,
   "metadata": {
    "collapsed": false
   },
   "outputs": [
    {
     "name": "stdout",
     "output_type": "stream",
     "text": [
      "test_whenWritingSummary (unittest.loader._FailedTest) ... ERROR\r\n",
      "\r\n",
      "======================================================================\r\n",
      "ERROR: test_whenWritingSummary (unittest.loader._FailedTest)\r\n",
      "----------------------------------------------------------------------\r\n",
      "ImportError: Failed to import test module: test_whenWritingSummary\r\n",
      "Traceback (most recent call last):\r\n",
      "  File \"/Users/mpasunder/anaconda3/lib/python3.5/unittest/loader.py\", line 153, in loadTestsFromName\r\n",
      "    module = __import__(module_name)\r\n",
      "  File \"/Users/mpasunder/Documents/Private/Genealogy/DasColonat/source/test_whenWritingSummary.py\", line 3, in <module>\r\n",
      "    from source.summary_writer import SummaryWriter\r\n",
      "  File \"/Users/mpasunder/Documents/Private/Genealogy/DasColonat/source/summary_writer.py\", line 2, in <module>\r\n",
      "    from source.language_template import WriterTemplates,WriterTemplateParser\r\n",
      "ImportError: No module named 'source.language_template'\r\n",
      "\r\n",
      "\r\n",
      "----------------------------------------------------------------------\r\n",
      "Ran 1 test in 0.000s\r\n",
      "\r\n",
      "FAILED (errors=1)\r\n"
     ]
    }
   ],
   "source": [
    "!python -m unittest -v source.test_whenWritingSummary"
   ]
  },
  {
   "cell_type": "markdown",
   "metadata": {},
   "source": [
    "### other"
   ]
  },
  {
   "cell_type": "code",
   "execution_count": 7,
   "metadata": {
    "collapsed": false
   },
   "outputs": [
    {
     "name": "stdout",
     "output_type": "stream",
     "text": [
      "test_acceptance (unittest.loader._FailedTest) ... ERROR\r\n",
      "\r\n",
      "======================================================================\r\n",
      "ERROR: test_acceptance (unittest.loader._FailedTest)\r\n",
      "----------------------------------------------------------------------\r\n",
      "ImportError: Failed to import test module: test_acceptance\r\n",
      "Traceback (most recent call last):\r\n",
      "  File \"/Users/mpasunder/anaconda3/lib/python3.5/unittest/loader.py\", line 153, in loadTestsFromName\r\n",
      "    module = __import__(module_name)\r\n",
      "  File \"/Users/mpasunder/Documents/Private/Genealogy/DasColonat/source/test_acceptance.py\", line 4, in <module>\r\n",
      "    from source.settings import Settings\r\n",
      "  File \"/Users/mpasunder/Documents/Private/Genealogy/DasColonat/source/settings.py\", line 1, in <module>\r\n",
      "    from source.phrase_writer import PhraseWriter\r\n",
      "  File \"/Users/mpasunder/Documents/Private/Genealogy/DasColonat/source/phrase_writer.py\", line 2, in <module>\r\n",
      "    from source.language_template import SentenceSelector\r\n",
      "ImportError: No module named 'source.language_template'\r\n",
      "\r\n",
      "\r\n",
      "----------------------------------------------------------------------\r\n",
      "Ran 1 test in 0.000s\r\n",
      "\r\n",
      "FAILED (errors=1)\r\n"
     ]
    }
   ],
   "source": [
    "!python -m unittest -v source.test_acceptance"
   ]
  },
  {
   "cell_type": "markdown",
   "metadata": {},
   "source": [
    "## Current status"
   ]
  },
  {
   "cell_type": "markdown",
   "metadata": {},
   "source": [
    "### load library"
   ]
  },
  {
   "cell_type": "code",
   "execution_count": 8,
   "metadata": {
    "collapsed": false
   },
   "outputs": [
    {
     "ename": "ImportError",
     "evalue": "No module named 'source.language_template'",
     "output_type": "error",
     "traceback": [
      "\u001b[0;31m---------------------------------------------------------------------------\u001b[0m",
      "\u001b[0;31mImportError\u001b[0m                               Traceback (most recent call last)",
      "\u001b[0;32m<ipython-input-8-b6df7cef2b73>\u001b[0m in \u001b[0;36m<module>\u001b[0;34m()\u001b[0m\n\u001b[0;32m----> 1\u001b[0;31m \u001b[0;32mfrom\u001b[0m \u001b[0msource\u001b[0m\u001b[0;34m.\u001b[0m\u001b[0msettings\u001b[0m \u001b[0;32mimport\u001b[0m \u001b[0mSettings\u001b[0m\u001b[0;34m\u001b[0m\u001b[0m\n\u001b[0m\u001b[1;32m      2\u001b[0m \u001b[0;32mfrom\u001b[0m \u001b[0msource\u001b[0m\u001b[0;34m.\u001b[0m\u001b[0mtask_manager\u001b[0m \u001b[0;32mimport\u001b[0m \u001b[0mTaskManager\u001b[0m\u001b[0;34m\u001b[0m\u001b[0m\n\u001b[1;32m      3\u001b[0m \u001b[0;32mfrom\u001b[0m \u001b[0msource\u001b[0m\u001b[0;34m.\u001b[0m\u001b[0mmock_gui\u001b[0m \u001b[0;32mimport\u001b[0m \u001b[0mMockGUI\u001b[0m\u001b[0;34m\u001b[0m\u001b[0m\n\u001b[1;32m      4\u001b[0m \u001b[0;32mfrom\u001b[0m \u001b[0msource\u001b[0m\u001b[0;34m.\u001b[0m\u001b[0mmock_file\u001b[0m \u001b[0;32mimport\u001b[0m \u001b[0mMockFolderAdapter\u001b[0m\u001b[0;34m\u001b[0m\u001b[0m\n",
      "\u001b[0;32m/Users/mpasunder/Documents/Private/Genealogy/DasColonat/source/settings.py\u001b[0m in \u001b[0;36m<module>\u001b[0;34m()\u001b[0m\n\u001b[0;32m----> 1\u001b[0;31m \u001b[0;32mfrom\u001b[0m \u001b[0msource\u001b[0m\u001b[0;34m.\u001b[0m\u001b[0mphrase_writer\u001b[0m \u001b[0;32mimport\u001b[0m \u001b[0mPhraseWriter\u001b[0m\u001b[0;34m\u001b[0m\u001b[0m\n\u001b[0m\u001b[1;32m      2\u001b[0m \u001b[0;34m\u001b[0m\u001b[0m\n\u001b[1;32m      3\u001b[0m \u001b[0;32mclass\u001b[0m \u001b[0mSettings\u001b[0m\u001b[0;34m(\u001b[0m\u001b[0mobject\u001b[0m\u001b[0;34m)\u001b[0m\u001b[0;34m:\u001b[0m\u001b[0;34m\u001b[0m\u001b[0m\n\u001b[1;32m      4\u001b[0m     \u001b[0;34m@\u001b[0m\u001b[0mstaticmethod\u001b[0m\u001b[0;34m\u001b[0m\u001b[0m\n\u001b[1;32m      5\u001b[0m     \u001b[0;32mdef\u001b[0m \u001b[0msetTo\u001b[0m\u001b[0;34m(\u001b[0m\u001b[0minputDict\u001b[0m\u001b[0;34m)\u001b[0m\u001b[0;34m:\u001b[0m\u001b[0;34m\u001b[0m\u001b[0m\n",
      "\u001b[0;32m/Users/mpasunder/Documents/Private/Genealogy/DasColonat/source/phrase_writer.py\u001b[0m in \u001b[0;36m<module>\u001b[0;34m()\u001b[0m\n\u001b[1;32m      1\u001b[0m \u001b[0;32mfrom\u001b[0m \u001b[0msource\u001b[0m\u001b[0;34m.\u001b[0m\u001b[0mlatex_templater\u001b[0m \u001b[0;32mimport\u001b[0m \u001b[0mLatexTemplater\u001b[0m\u001b[0;34m\u001b[0m\u001b[0m\n\u001b[0;32m----> 2\u001b[0;31m \u001b[0;32mfrom\u001b[0m \u001b[0msource\u001b[0m\u001b[0;34m.\u001b[0m\u001b[0mlanguage_template\u001b[0m \u001b[0;32mimport\u001b[0m \u001b[0mSentenceSelector\u001b[0m\u001b[0;34m\u001b[0m\u001b[0m\n\u001b[0m\u001b[1;32m      3\u001b[0m \u001b[0;34m\u001b[0m\u001b[0m\n\u001b[1;32m      4\u001b[0m \u001b[0;32mclass\u001b[0m \u001b[0mPhraseWriter\u001b[0m\u001b[0;34m(\u001b[0m\u001b[0mobject\u001b[0m\u001b[0;34m)\u001b[0m\u001b[0;34m:\u001b[0m\u001b[0;34m\u001b[0m\u001b[0m\n\u001b[1;32m      5\u001b[0m     \u001b[0;34m@\u001b[0m\u001b[0mstaticmethod\u001b[0m\u001b[0;34m\u001b[0m\u001b[0m\n",
      "\u001b[0;31mImportError\u001b[0m: No module named 'source.language_template'"
     ]
    }
   ],
   "source": [
    "from source.settings import Settings\n",
    "from source.task_manager import TaskManager\n",
    "from source.mock_gui import MockGUI\n",
    "from source.mock_file import MockFolderAdapter"
   ]
  },
  {
   "cell_type": "code",
   "execution_count": null,
   "metadata": {
    "collapsed": false
   },
   "outputs": [],
   "source": [
    "# define mock input\n",
    "STR_INPUT = 'father;;;mother;;child;;;;;;\\n'+\\\n",
    "            'PID;foreNames;lastName;PID;firstName;PID;firstName;day;month;year;denom_0;nameOfParish\\n'+\\\n",
    "            '(Fr0);Jois;Sunder;x1(Fr0);Alheid;(Fr0.1);Wolterus;18;12;1661;rc;St. Vitus' \n",
    "GOLD_SETTINGS = {'filesToLoadFrom':['baptism.csv'],\\\n",
    "                 'filesToSaveTo':'summary.tex',\n",
    "                 'roleOfMain':'father'}\n",
    "# write a mock file with input\n",
    "folderAdapter = MockFolderAdapter()\n",
    "with folderAdapter.open('baptism.csv','w') as fileObject:\n",
    "            fileObject.write(STR_INPUT)\n",
    "# setup settings\n",
    "settings = Settings.setTo(GOLD_SETTINGS)\n",
    "theGUI   = MockGUI()\n",
    "taskManager = TaskManager()\n",
    "taskManager.setGUITo(theGUI)\n",
    "taskManager.setFolderAdapterTo(folderAdapter)\n",
    "taskManager.setSettingsTo(settings)\n",
    "taskManager.run()\n",
    "# read output\n",
    "with folderAdapter.open('summary.tex','r') as fileObject:\n",
    "            content = fileObject.read()\n",
    "content = content.replace('\\t','\\\\t')\n",
    "content = content.replace('\\r','\\\\r')\n",
    "print(content.replace('\\b','\\\\b'))"
   ]
  },
  {
   "cell_type": "markdown",
   "metadata": {},
   "source": [
    "### Use Case: createSummary"
   ]
  },
  {
   "cell_type": "markdown",
   "metadata": {},
   "source": [
    "**Use Case**: create a summary <br>\n",
    "**Actor**:    user <br>\n",
    "**Brief:** <br>\n",
    "create a summary of a selection of data and put the output in a suitable LaTeX-format that allows a PDF to be put out by running 'overview.tex'. <br>\n",
    "<br>\n",
    "**Basic Flow:**<br>\n",
    "\n",
    "1) Select a person/people from a selection of available people. <br>\n",
    "\n",
    "2) Compose a summary for that person. <br>\n",
    "\n",
    "3) Run the pdf. <br>\n",
    "\n",
    "**Input:**<br>\n",
    "\n",
    "The programm shall be runnable through default settings that are specified in the settings.\n",
    "\n",
    "<table>\n",
    "    <tr>\n",
    "        <td width=\"100\"> **name** </td>\n",
    "        <td width=\"200\"> **type/options** </td>\n",
    "        <td> ** description ** </td>\n",
    "    </tr>\n",
    "    <tr>\n",
    "        <td width=\"100\"> *filesToLoadFrom* </td>\n",
    "        <td width=\"200\"> str </td>\n",
    "        <td>: The name of the file with the input data. </td>\n",
    "    </tr>\n",
    "    <tr>\n",
    "        <td> *filesToSaveTo*</td>\n",
    "        <td> str </td>\n",
    "        <td>: The name of the file to which the output is written.</td>\n",
    "    </tr>\n",
    "        <tr>\n",
    "        <td> *language*</td>\n",
    "        <td> $\\text{str} \\in \\{$'en','nl','de'$\\}$ where by default: language='en' </td>\n",
    "        <td>: The language of the output summary, implemented options are: english, dutch and german.</td>\n",
    "    </tr>\n",
    "</table>"
   ]
  },
  {
   "cell_type": "code",
   "execution_count": null,
   "metadata": {
    "collapsed": false
   },
   "outputs": [],
   "source": []
  },
  {
   "cell_type": "code",
   "execution_count": null,
   "metadata": {
    "collapsed": true
   },
   "outputs": [],
   "source": []
  }
 ],
 "metadata": {
  "anaconda-cloud": {},
  "kernelspec": {
   "display_name": "Python [anaconda3]",
   "language": "python",
   "name": "Python [anaconda3]"
  },
  "language_info": {
   "codemirror_mode": {
    "name": "ipython",
    "version": 3
   },
   "file_extension": ".py",
   "mimetype": "text/x-python",
   "name": "python",
   "nbconvert_exporter": "python",
   "pygments_lexer": "ipython3",
   "version": "3.5.2"
  }
 },
 "nbformat": 4,
 "nbformat_minor": 0
}
